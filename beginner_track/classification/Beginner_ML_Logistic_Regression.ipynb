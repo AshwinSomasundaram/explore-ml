{
  "nbformat": 4,
  "nbformat_minor": 0,
  "metadata": {
    "colab": {
      "name": "Beginner_ML_Logisitic_Regression",
      "provenance": [],
      "collapsed_sections": [
        "sSV2ND8o9Ydi",
        "Uh1te5RMIbiQ",
        "2ELkpx8IMLC_"
      ]
    },
    "kernelspec": {
      "name": "python3",
      "display_name": "Python 3"
    }
  },
  "cells": [
    {
      "cell_type": "markdown",
      "metadata": {
        "id": "HHzKmj2odt28",
        "colab_type": "text"
      },
      "source": [
        "### Developer Student Club (DSC) - Beginner Machine Learning Track "
      ]
    },
    {
      "cell_type": "markdown",
      "metadata": {
        "id": "a1FmN-4W9M4M",
        "colab_type": "text"
      },
      "source": [
        "### Classification\n",
        "Is a problem of identifying which categories an observation belongs to based on the training data.\n",
        "\n",
        "Examples of Classification include:\n",
        "* Detect *Spam* and *Non-Span* Email\n",
        "* Detect cancer or not"
      ]
    },
    {
      "cell_type": "markdown",
      "metadata": {
        "id": "sSV2ND8o9Ydi",
        "colab_type": "text"
      },
      "source": [
        "### Logistic Regression\n",
        "Is a binary classifier based on [Sigmoid Function](https://www.stat.cmu.edu/~cshalizi/uADA/12/lectures/ch12.pdf) to compute the probability for which categories an observation belongs to.\n",
        "![alt text](https://www.researchgate.net/profile/Knut_Kvaal/publication/239269767/figure/fig2/AS:643520205430784@1530438581076/An-illustration-of-the-signal-processing-in-a-sigmoid-function.png)"
      ]
    },
    {
      "cell_type": "markdown",
      "metadata": {
        "id": "TUmGveO7-XQN",
        "colab_type": "text"
      },
      "source": [
        "* Probability *f(x)* ranges from minimum 0 to maximum 1 that the closer f(x) to 1, the more likely the observation is in one category; and the closer f(x) to 0, the less likely the observation is in that cateogry.\n",
        "* E.g. Logistic Regression to detect *Spam* and *Non-Span* Email with *Spam email* when f(x) = 1 and *Non-Spam email* when f(x) = 0. The f(x) = 0.9 means that there is 90% of likeliness that the email is Spam. \n",
        "* Logistic Regression can be used for both **Binary Classification** and **Multi-Classification**"
      ]
    },
    {
      "cell_type": "markdown",
      "metadata": {
        "id": "Uh1te5RMIbiQ",
        "colab_type": "text"
      },
      "source": [
        "### Logistic Regression for identifying Iris flower types. \n",
        "### [Iris Flower Dataset](https://www.kaggle.com/arshid/iris-flower-dataset)\n",
        "* The Iris flower data set is a multivariate data set introduced by the British statistician and biologist Ronald Fisher in his 1936 paper The **use of multiple measurements** in taxonomic problems. It is sometimes called Anderson's Iris data set because Edgar Anderson collected the data to **quantify the morphologic variation of Iris flowers of three related species**. \n",
        "* The data set consists of **50 samples from each of three species** of Iris (Iris Setosa, Iris virginica, and Iris versicolor). **Four features** were measured from each sample: **the length and the width of the sepals and petals,** in centimeters.\n",
        "\n",
        "![alt text](https://miro.medium.com/max/2006/1*8BQGOzI2cgNZxiqnjZPfMg.jpeg)"
      ]
    },
    {
      "cell_type": "markdown",
      "metadata": {
        "id": "YmFJUWgZKwOG",
        "colab_type": "text"
      },
      "source": [
        "#### **Goal:** identify which specifici species of Iris the flower observation falls under"
      ]
    },
    {
      "cell_type": "markdown",
      "metadata": {
        "id": "4tLeHtxQLHBK",
        "colab_type": "text"
      },
      "source": [
        "#### Import dependencies"
      ]
    },
    {
      "cell_type": "code",
      "metadata": {
        "id": "dpP82wNF9KzL",
        "colab_type": "code",
        "colab": {}
      },
      "source": [
        "import numpy as np\n",
        "import matplotlib.pyplot as plt\n",
        "from sklearn.datasets import load_iris\n",
        "import pandas as pd\n",
        "from sklearn.metrics import confusion_matrix, accuracy_score, plot_confusion_matrix"
      ],
      "execution_count": 0,
      "outputs": []
    },
    {
      "cell_type": "markdown",
      "metadata": {
        "id": "Y8DFEz4BLQM6",
        "colab_type": "text"
      },
      "source": [
        "#### Load data"
      ]
    },
    {
      "cell_type": "code",
      "metadata": {
        "id": "iRlvFISbLPsX",
        "colab_type": "code",
        "colab": {}
      },
      "source": [
        "#load iris data\n",
        "iris = load_iris()\n",
        "data = iris.data\n",
        "labels = iris.target"
      ],
      "execution_count": 0,
      "outputs": []
    },
    {
      "cell_type": "code",
      "metadata": {
        "id": "PDyuKunqLoTY",
        "colab_type": "code",
        "colab": {}
      },
      "source": [
        "#parse data and labels into pandas.DataFrames for easy data manipulation\n",
        "#df - DataFrame\n",
        "df = pd.DataFrame(data, columns = ['sepal_length', 'sepal_width', 'petal_length', 'petal_width'])\n",
        "df['species_id'] = labels\n",
        "\n",
        "#add species_name for visualization\n",
        "species_map = {0 : 'sentosa', 1 : 'versicolor', 2 : 'virginica'}\n",
        "df['species_name'] = df['species_id'].map(species_map)"
      ],
      "execution_count": 0,
      "outputs": []
    },
    {
      "cell_type": "markdown",
      "metadata": {
        "id": "p-UshCdBLVSu",
        "colab_type": "text"
      },
      "source": [
        "#### Explanatory Data Analysis"
      ]
    },
    {
      "cell_type": "markdown",
      "metadata": {
        "id": "4SsGo0-sLagn",
        "colab_type": "text"
      },
      "source": [
        "##### Inspect first 5 rows of Iris dataset"
      ]
    },
    {
      "cell_type": "code",
      "metadata": {
        "id": "Q_D1wq15LTOT",
        "colab_type": "code",
        "colab": {
          "base_uri": "https://localhost:8080/",
          "height": 204
        },
        "outputId": "d3b3e399-dc0f-4671-a07e-7de372086cf7"
      },
      "source": [
        "df.head()"
      ],
      "execution_count": 13,
      "outputs": [
        {
          "output_type": "execute_result",
          "data": {
            "text/html": [
              "<div>\n",
              "<style scoped>\n",
              "    .dataframe tbody tr th:only-of-type {\n",
              "        vertical-align: middle;\n",
              "    }\n",
              "\n",
              "    .dataframe tbody tr th {\n",
              "        vertical-align: top;\n",
              "    }\n",
              "\n",
              "    .dataframe thead th {\n",
              "        text-align: right;\n",
              "    }\n",
              "</style>\n",
              "<table border=\"1\" class=\"dataframe\">\n",
              "  <thead>\n",
              "    <tr style=\"text-align: right;\">\n",
              "      <th></th>\n",
              "      <th>sepal_length</th>\n",
              "      <th>sepal_width</th>\n",
              "      <th>petal_length</th>\n",
              "      <th>petal_width</th>\n",
              "      <th>species_id</th>\n",
              "      <th>species_name</th>\n",
              "    </tr>\n",
              "  </thead>\n",
              "  <tbody>\n",
              "    <tr>\n",
              "      <th>0</th>\n",
              "      <td>5.1</td>\n",
              "      <td>3.5</td>\n",
              "      <td>1.4</td>\n",
              "      <td>0.2</td>\n",
              "      <td>0</td>\n",
              "      <td>sentosa</td>\n",
              "    </tr>\n",
              "    <tr>\n",
              "      <th>1</th>\n",
              "      <td>4.9</td>\n",
              "      <td>3.0</td>\n",
              "      <td>1.4</td>\n",
              "      <td>0.2</td>\n",
              "      <td>0</td>\n",
              "      <td>sentosa</td>\n",
              "    </tr>\n",
              "    <tr>\n",
              "      <th>2</th>\n",
              "      <td>4.7</td>\n",
              "      <td>3.2</td>\n",
              "      <td>1.3</td>\n",
              "      <td>0.2</td>\n",
              "      <td>0</td>\n",
              "      <td>sentosa</td>\n",
              "    </tr>\n",
              "    <tr>\n",
              "      <th>3</th>\n",
              "      <td>4.6</td>\n",
              "      <td>3.1</td>\n",
              "      <td>1.5</td>\n",
              "      <td>0.2</td>\n",
              "      <td>0</td>\n",
              "      <td>sentosa</td>\n",
              "    </tr>\n",
              "    <tr>\n",
              "      <th>4</th>\n",
              "      <td>5.0</td>\n",
              "      <td>3.6</td>\n",
              "      <td>1.4</td>\n",
              "      <td>0.2</td>\n",
              "      <td>0</td>\n",
              "      <td>sentosa</td>\n",
              "    </tr>\n",
              "  </tbody>\n",
              "</table>\n",
              "</div>"
            ],
            "text/plain": [
              "   sepal_length  sepal_width  ...  species_id  species_name\n",
              "0           5.1          3.5  ...           0       sentosa\n",
              "1           4.9          3.0  ...           0       sentosa\n",
              "2           4.7          3.2  ...           0       sentosa\n",
              "3           4.6          3.1  ...           0       sentosa\n",
              "4           5.0          3.6  ...           0       sentosa\n",
              "\n",
              "[5 rows x 6 columns]"
            ]
          },
          "metadata": {
            "tags": []
          },
          "execution_count": 13
        }
      ]
    },
    {
      "cell_type": "markdown",
      "metadata": {
        "id": "2ELkpx8IMLC_",
        "colab_type": "text"
      },
      "source": [
        "##### Inspect statistics of Iris dataset"
      ]
    },
    {
      "cell_type": "code",
      "metadata": {
        "id": "CJTvfNBSLenA",
        "colab_type": "code",
        "colab": {
          "base_uri": "https://localhost:8080/",
          "height": 297
        },
        "outputId": "dfb04bb4-8906-4f34-efbf-0cf1711fd0b5"
      },
      "source": [
        "df.describe()"
      ],
      "execution_count": 57,
      "outputs": [
        {
          "output_type": "execute_result",
          "data": {
            "text/html": [
              "<div>\n",
              "<style scoped>\n",
              "    .dataframe tbody tr th:only-of-type {\n",
              "        vertical-align: middle;\n",
              "    }\n",
              "\n",
              "    .dataframe tbody tr th {\n",
              "        vertical-align: top;\n",
              "    }\n",
              "\n",
              "    .dataframe thead th {\n",
              "        text-align: right;\n",
              "    }\n",
              "</style>\n",
              "<table border=\"1\" class=\"dataframe\">\n",
              "  <thead>\n",
              "    <tr style=\"text-align: right;\">\n",
              "      <th></th>\n",
              "      <th>sepal_length</th>\n",
              "      <th>sepal_width</th>\n",
              "      <th>petal_length</th>\n",
              "      <th>petal_width</th>\n",
              "      <th>species_id</th>\n",
              "    </tr>\n",
              "  </thead>\n",
              "  <tbody>\n",
              "    <tr>\n",
              "      <th>count</th>\n",
              "      <td>150.000000</td>\n",
              "      <td>150.000000</td>\n",
              "      <td>150.000000</td>\n",
              "      <td>150.000000</td>\n",
              "      <td>150.000000</td>\n",
              "    </tr>\n",
              "    <tr>\n",
              "      <th>mean</th>\n",
              "      <td>5.843333</td>\n",
              "      <td>3.057333</td>\n",
              "      <td>3.758000</td>\n",
              "      <td>1.199333</td>\n",
              "      <td>1.000000</td>\n",
              "    </tr>\n",
              "    <tr>\n",
              "      <th>std</th>\n",
              "      <td>0.828066</td>\n",
              "      <td>0.435866</td>\n",
              "      <td>1.765298</td>\n",
              "      <td>0.762238</td>\n",
              "      <td>0.819232</td>\n",
              "    </tr>\n",
              "    <tr>\n",
              "      <th>min</th>\n",
              "      <td>4.300000</td>\n",
              "      <td>2.000000</td>\n",
              "      <td>1.000000</td>\n",
              "      <td>0.100000</td>\n",
              "      <td>0.000000</td>\n",
              "    </tr>\n",
              "    <tr>\n",
              "      <th>25%</th>\n",
              "      <td>5.100000</td>\n",
              "      <td>2.800000</td>\n",
              "      <td>1.600000</td>\n",
              "      <td>0.300000</td>\n",
              "      <td>0.000000</td>\n",
              "    </tr>\n",
              "    <tr>\n",
              "      <th>50%</th>\n",
              "      <td>5.800000</td>\n",
              "      <td>3.000000</td>\n",
              "      <td>4.350000</td>\n",
              "      <td>1.300000</td>\n",
              "      <td>1.000000</td>\n",
              "    </tr>\n",
              "    <tr>\n",
              "      <th>75%</th>\n",
              "      <td>6.400000</td>\n",
              "      <td>3.300000</td>\n",
              "      <td>5.100000</td>\n",
              "      <td>1.800000</td>\n",
              "      <td>2.000000</td>\n",
              "    </tr>\n",
              "    <tr>\n",
              "      <th>max</th>\n",
              "      <td>7.900000</td>\n",
              "      <td>4.400000</td>\n",
              "      <td>6.900000</td>\n",
              "      <td>2.500000</td>\n",
              "      <td>2.000000</td>\n",
              "    </tr>\n",
              "  </tbody>\n",
              "</table>\n",
              "</div>"
            ],
            "text/plain": [
              "       sepal_length  sepal_width  petal_length  petal_width  species_id\n",
              "count    150.000000   150.000000    150.000000   150.000000  150.000000\n",
              "mean       5.843333     3.057333      3.758000     1.199333    1.000000\n",
              "std        0.828066     0.435866      1.765298     0.762238    0.819232\n",
              "min        4.300000     2.000000      1.000000     0.100000    0.000000\n",
              "25%        5.100000     2.800000      1.600000     0.300000    0.000000\n",
              "50%        5.800000     3.000000      4.350000     1.300000    1.000000\n",
              "75%        6.400000     3.300000      5.100000     1.800000    2.000000\n",
              "max        7.900000     4.400000      6.900000     2.500000    2.000000"
            ]
          },
          "metadata": {
            "tags": []
          },
          "execution_count": 57
        }
      ]
    },
    {
      "cell_type": "markdown",
      "metadata": {
        "id": "7eK2hkx0NSNJ",
        "colab_type": "text"
      },
      "source": [
        "##### Check missing values"
      ]
    },
    {
      "cell_type": "code",
      "metadata": {
        "id": "0Ch7Ps1hMQbD",
        "colab_type": "code",
        "colab": {
          "base_uri": "https://localhost:8080/",
          "height": 136
        },
        "outputId": "d4151f6f-581b-4e8f-e971-4839bd4c8d4a"
      },
      "source": [
        "df.isnull().any()"
      ],
      "execution_count": 18,
      "outputs": [
        {
          "output_type": "execute_result",
          "data": {
            "text/plain": [
              "sepal_length    False\n",
              "sepal_width     False\n",
              "petal_length    False\n",
              "petal_width     False\n",
              "species_id      False\n",
              "species_name    False\n",
              "dtype: bool"
            ]
          },
          "metadata": {
            "tags": []
          },
          "execution_count": 18
        }
      ]
    },
    {
      "cell_type": "markdown",
      "metadata": {
        "id": "2G2q2HvmTpvU",
        "colab_type": "text"
      },
      "source": [
        "##### Check Iris types"
      ]
    },
    {
      "cell_type": "code",
      "metadata": {
        "id": "YenTgAAZTyWx",
        "colab_type": "code",
        "colab": {
          "base_uri": "https://localhost:8080/",
          "height": 34
        },
        "outputId": "0aa68555-21a6-4614-8cca-59c25b307a8b"
      },
      "source": [
        "print(df['species_name'].unique())"
      ],
      "execution_count": 91,
      "outputs": [
        {
          "output_type": "stream",
          "text": [
            "['sentosa' 'versicolor' 'virginica']\n"
          ],
          "name": "stdout"
        }
      ]
    },
    {
      "cell_type": "markdown",
      "metadata": {
        "id": "VAeQkvIgOP3s",
        "colab_type": "text"
      },
      "source": [
        "#### Inspecting by visualization"
      ]
    },
    {
      "cell_type": "markdown",
      "metadata": {
        "id": "zTmiPCKxQOP8",
        "colab_type": "text"
      },
      "source": [
        "##### Inspecting the balance of labels"
      ]
    },
    {
      "cell_type": "code",
      "metadata": {
        "id": "-KS7rswgQRln",
        "colab_type": "code",
        "colab": {
          "base_uri": "https://localhost:8080/",
          "height": 282
        },
        "outputId": "ddcee80a-a6ee-4374-e0fb-ebe1296f3b74"
      },
      "source": [
        "plt.hist(df['species_id'])\n",
        "plt.show"
      ],
      "execution_count": 92,
      "outputs": [
        {
          "output_type": "execute_result",
          "data": {
            "text/plain": [
              "<function matplotlib.pyplot.show>"
            ]
          },
          "metadata": {
            "tags": []
          },
          "execution_count": 92
        },
        {
          "output_type": "display_data",
          "data": {
            "image/png": "[encoded data removed]",
            "text/plain": [
              "<Figure size 432x288 with 1 Axes>"
            ]
          },
          "metadata": {
            "tags": []
          }
        }
      ]
    },
    {
      "cell_type": "markdown",
      "metadata": {
        "id": "m5rd5SarOi9I",
        "colab_type": "text"
      },
      "source": [
        "##### Inspecting **Septal** feature by Length and Width"
      ]
    },
    {
      "cell_type": "code",
      "metadata": {
        "id": "HgjK5BQmOIRD",
        "colab_type": "code",
        "colab": {
          "base_uri": "https://localhost:8080/",
          "height": 296
        },
        "outputId": "705e01b8-78f8-45c2-bad3-aa7141b87c48"
      },
      "source": [
        "# By length\n",
        "plt.scatter(df['sepal_length'], df['petal_width'], c = df['species_id'])\n",
        "plt.xlabel('Sepal Length')\n",
        "plt.ylabel('Petal Wdith')\n",
        "plt.show"
      ],
      "execution_count": 93,
      "outputs": [
        {
          "output_type": "execute_result",
          "data": {
            "text/plain": [
              "<function matplotlib.pyplot.show>"
            ]
          },
          "metadata": {
            "tags": []
          },
          "execution_count": 93
        },
        {
          "output_type": "display_data",
          "data": {
            "image/png": "[encoded data removed]",
            "text/plain": [
              "<Figure size 432x288 with 1 Axes>"
            ]
          },
          "metadata": {
            "tags": []
          }
        }
      ]
    },
    {
      "cell_type": "code",
      "metadata": {
        "id": "zBfOZMqePy9Y",
        "colab_type": "code",
        "colab": {
          "base_uri": "https://localhost:8080/",
          "height": 296
        },
        "outputId": "71ab442f-eeaf-495f-bb72-153fec2406be"
      },
      "source": [
        "# By width\n",
        "plt.scatter(df['sepal_width'], df['petal_length'], c = df['species_id'])\n",
        "plt.xlabel('Sepal Width')\n",
        "plt.ylabel('Petal Width')\n",
        "plt.show"
      ],
      "execution_count": 94,
      "outputs": [
        {
          "output_type": "execute_result",
          "data": {
            "text/plain": [
              "<function matplotlib.pyplot.show>"
            ]
          },
          "metadata": {
            "tags": []
          },
          "execution_count": 94
        },
        {
          "output_type": "display_data",
          "data": {
            "image/png": "[encoded data removed]",
            "text/plain": [
              "<Figure size 432x288 with 1 Axes>"
            ]
          },
          "metadata": {
            "tags": []
          }
        }
      ]
    },
    {
      "cell_type": "markdown",
      "metadata": {
        "id": "hTV6zSWSWeCt",
        "colab_type": "text"
      },
      "source": [
        "##### Classifying Sentosa versus Versicolor"
      ]
    },
    {
      "cell_type": "code",
      "metadata": {
        "id": "qOATXB4FWcVX",
        "colab_type": "code",
        "colab": {
          "base_uri": "https://localhost:8080/",
          "height": 34
        },
        "outputId": "13feda20-ee6b-498b-a9ab-23ea77fa9de8"
      },
      "source": [
        "df = df[df['species_name'].isin(['sentosa', 'versicolor'])]\n",
        "print(df['species_name'].unique())"
      ],
      "execution_count": 95,
      "outputs": [
        {
          "output_type": "stream",
          "text": [
            "['sentosa' 'versicolor']\n"
          ],
          "name": "stdout"
        }
      ]
    },
    {
      "cell_type": "markdown",
      "metadata": {
        "id": "amwnWwOCRDl9",
        "colab_type": "text"
      },
      "source": [
        "#### Split dataset into Train and Test subsets: *80% for training and 20% for testing*"
      ]
    },
    {
      "cell_type": "code",
      "metadata": {
        "id": "aB7LHT9ARRwW",
        "colab_type": "code",
        "colab": {}
      },
      "source": [
        "from sklearn.model_selection import train_test_split\n",
        "features = df.drop(['species_id', 'species_name'], axis = \"columns\") #drop columns\n",
        "labels = df['species_id']\n",
        "train_features, test_features, train_labels, test_labels = train_test_split(features, labels, test_size = 0.2, shuffle = True, random_state = 10)"
      ],
      "execution_count": 0,
      "outputs": []
    },
    {
      "cell_type": "markdown",
      "metadata": {
        "id": "yeT6leSpQeZA",
        "colab_type": "text"
      },
      "source": [
        "#### Build **Logistic Regression** model"
      ]
    },
    {
      "cell_type": "code",
      "metadata": {
        "id": "3aocY8ctQd9C",
        "colab_type": "code",
        "colab": {}
      },
      "source": [
        "from sklearn.linear_model import LogisticRegression"
      ],
      "execution_count": 0,
      "outputs": []
    },
    {
      "cell_type": "code",
      "metadata": {
        "id": "gDe5t5zQQlZ9",
        "colab_type": "code",
        "colab": {}
      },
      "source": [
        "#create an instance of LogisticRegression model with: iteration_num = 100 and verbose = 1\n",
        "logit_model = LogisticRegression(max_iter = 100, verbose = 1)"
      ],
      "execution_count": 0,
      "outputs": []
    },
    {
      "cell_type": "markdown",
      "metadata": {
        "id": "RkOSIWzhQ7oR",
        "colab_type": "text"
      },
      "source": [
        "#### Train **Logisitc Regression** model"
      ]
    },
    {
      "cell_type": "code",
      "metadata": {
        "id": "wYXLxzywQ5T4",
        "colab_type": "code",
        "colab": {
          "base_uri": "https://localhost:8080/",
          "height": 136
        },
        "outputId": "61a0298c-06d1-4387-fada-44555a1f81bf"
      },
      "source": [
        "logit_model.fit(train_features, train_labels)"
      ],
      "execution_count": 99,
      "outputs": [
        {
          "output_type": "stream",
          "text": [
            "[Parallel(n_jobs=1)]: Using backend SequentialBackend with 1 concurrent workers.\n",
            "[Parallel(n_jobs=1)]: Done   1 out of   1 | elapsed:    0.0s finished\n"
          ],
          "name": "stderr"
        },
        {
          "output_type": "execute_result",
          "data": {
            "text/plain": [
              "LogisticRegression(C=1.0, class_weight=None, dual=False, fit_intercept=True,\n",
              "                   intercept_scaling=1, l1_ratio=None, max_iter=100,\n",
              "                   multi_class='auto', n_jobs=None, penalty='l2',\n",
              "                   random_state=None, solver='lbfgs', tol=0.0001, verbose=1,\n",
              "                   warm_start=False)"
            ]
          },
          "metadata": {
            "tags": []
          },
          "execution_count": 99
        }
      ]
    },
    {
      "cell_type": "markdown",
      "metadata": {
        "id": "bL8ec1F3SW3F",
        "colab_type": "text"
      },
      "source": [
        "##### Making predictions"
      ]
    },
    {
      "cell_type": "markdown",
      "metadata": {
        "id": "GdTwqpZ8ZExc",
        "colab_type": "text"
      },
      "source": [
        "##### Making **Train** predictions"
      ]
    },
    {
      "cell_type": "code",
      "metadata": {
        "id": "cHQUxxnjSFat",
        "colab_type": "code",
        "colab": {}
      },
      "source": [
        "train_preds = logit_model.predict(train_features)\n",
        "train_pred_probabilities = logit_model.predict_proba(train_features)"
      ],
      "execution_count": 0,
      "outputs": []
    },
    {
      "cell_type": "code",
      "metadata": {
        "id": "6QvOYDpUSTkj",
        "colab_type": "code",
        "colab": {}
      },
      "source": [
        "#parse predictions to dataframe\n",
        "train_predictions = pd.DataFrame(columns = ['Predictions', 'Predicted Probabilities', 'True Labels'])\n",
        "train_predictions['True Labels'] = train_labels\n",
        "train_predictions['Predictions'] = train_preds\n",
        "train_predictions['Predicted Probabilities'] = train_pred_probabilities\n"
      ],
      "execution_count": 0,
      "outputs": []
    },
    {
      "cell_type": "code",
      "metadata": {
        "id": "Wy-WvcnAYSCZ",
        "colab_type": "code",
        "colab": {
          "base_uri": "https://localhost:8080/",
          "height": 51
        },
        "outputId": "9321c721-eaae-43b8-f2e6-64747f3fa548"
      },
      "source": [
        "#get coefficeints and intercepts\n",
        "train_W, train_b = logit_model.coef_, logit_model.intercept_\n",
        "train_W, train_b"
      ],
      "execution_count": 140,
      "outputs": [
        {
          "output_type": "execute_result",
          "data": {
            "text/plain": [
              "(array([[ 0.39669002, -0.85822915,  2.17651167,  0.9312474 ]]),\n",
              " array([-6.16435819]))"
            ]
          },
          "metadata": {
            "tags": []
          },
          "execution_count": 140
        }
      ]
    },
    {
      "cell_type": "code",
      "metadata": {
        "id": "BildoSpbSURT",
        "colab_type": "code",
        "colab": {
          "base_uri": "https://localhost:8080/",
          "height": 419
        },
        "outputId": "7478246c-0df9-4906-d9f3-d6a47ecef53f"
      },
      "source": [
        "#print predictions\n",
        "train_predictions"
      ],
      "execution_count": 141,
      "outputs": [
        {
          "output_type": "execute_result",
          "data": {
            "text/html": [
              "<div>\n",
              "<style scoped>\n",
              "    .dataframe tbody tr th:only-of-type {\n",
              "        vertical-align: middle;\n",
              "    }\n",
              "\n",
              "    .dataframe tbody tr th {\n",
              "        vertical-align: top;\n",
              "    }\n",
              "\n",
              "    .dataframe thead th {\n",
              "        text-align: right;\n",
              "    }\n",
              "</style>\n",
              "<table border=\"1\" class=\"dataframe\">\n",
              "  <thead>\n",
              "    <tr style=\"text-align: right;\">\n",
              "      <th></th>\n",
              "      <th>Predictions</th>\n",
              "      <th>Predicted Probabilities</th>\n",
              "      <th>True Labels</th>\n",
              "    </tr>\n",
              "  </thead>\n",
              "  <tbody>\n",
              "    <tr>\n",
              "      <th>90</th>\n",
              "      <td>1</td>\n",
              "      <td>0.011204</td>\n",
              "      <td>1</td>\n",
              "    </tr>\n",
              "    <tr>\n",
              "      <th>70</th>\n",
              "      <td>1</td>\n",
              "      <td>0.003860</td>\n",
              "      <td>1</td>\n",
              "    </tr>\n",
              "    <tr>\n",
              "      <th>50</th>\n",
              "      <td>1</td>\n",
              "      <td>0.004499</td>\n",
              "      <td>1</td>\n",
              "    </tr>\n",
              "    <tr>\n",
              "      <th>44</th>\n",
              "      <td>0</td>\n",
              "      <td>0.947581</td>\n",
              "      <td>0</td>\n",
              "    </tr>\n",
              "    <tr>\n",
              "      <th>76</th>\n",
              "      <td>1</td>\n",
              "      <td>0.002784</td>\n",
              "      <td>1</td>\n",
              "    </tr>\n",
              "    <tr>\n",
              "      <th>...</th>\n",
              "      <td>...</td>\n",
              "      <td>...</td>\n",
              "      <td>...</td>\n",
              "    </tr>\n",
              "    <tr>\n",
              "      <th>89</th>\n",
              "      <td>1</td>\n",
              "      <td>0.022128</td>\n",
              "      <td>1</td>\n",
              "    </tr>\n",
              "    <tr>\n",
              "      <th>28</th>\n",
              "      <td>0</td>\n",
              "      <td>0.977821</td>\n",
              "      <td>0</td>\n",
              "    </tr>\n",
              "    <tr>\n",
              "      <th>64</th>\n",
              "      <td>1</td>\n",
              "      <td>0.068223</td>\n",
              "      <td>1</td>\n",
              "    </tr>\n",
              "    <tr>\n",
              "      <th>15</th>\n",
              "      <td>0</td>\n",
              "      <td>0.982744</td>\n",
              "      <td>0</td>\n",
              "    </tr>\n",
              "    <tr>\n",
              "      <th>9</th>\n",
              "      <td>0</td>\n",
              "      <td>0.971341</td>\n",
              "      <td>0</td>\n",
              "    </tr>\n",
              "  </tbody>\n",
              "</table>\n",
              "<p>80 rows × 3 columns</p>\n",
              "</div>"
            ],
            "text/plain": [
              "    Predictions  Predicted Probabilities  True Labels\n",
              "90            1                 0.011204            1\n",
              "70            1                 0.003860            1\n",
              "50            1                 0.004499            1\n",
              "44            0                 0.947581            0\n",
              "76            1                 0.002784            1\n",
              "..          ...                      ...          ...\n",
              "89            1                 0.022128            1\n",
              "28            0                 0.977821            0\n",
              "64            1                 0.068223            1\n",
              "15            0                 0.982744            0\n",
              "9             0                 0.971341            0\n",
              "\n",
              "[80 rows x 3 columns]"
            ]
          },
          "metadata": {
            "tags": []
          },
          "execution_count": 141
        }
      ]
    },
    {
      "cell_type": "code",
      "metadata": {
        "id": "7LHUZYdgaux6",
        "colab_type": "code",
        "colab": {
          "base_uri": "https://localhost:8080/",
          "height": 313
        },
        "outputId": "dab930e2-23cc-4230-a7dc-30dd9c237181"
      },
      "source": [
        "#test accuracy\n",
        "train_confusion_matrix = confusion_matrix(train_preds, train_labels)\n",
        "train_accuracy_score = accuracy_score(train_preds, train_labels)\n",
        "train_disp = plot_confusion_matrix(logit_model, train_features, train_labels, cmap = plt.cm.Blues)\n",
        "print(\"Accuracy score: \")\n",
        "print(train_accuracy_score)"
      ],
      "execution_count": 165,
      "outputs": [
        {
          "output_type": "stream",
          "text": [
            "Accuracy score: \n",
            "1.0\n"
          ],
          "name": "stdout"
        },
        {
          "output_type": "display_data",
          "data": {
            "image/png": "[encoded data removed]",
            "text/plain": [
              "<Figure size 432x288 with 2 Axes>"
            ]
          },
          "metadata": {
            "tags": []
          }
        }
      ]
    },
    {
      "cell_type": "markdown",
      "metadata": {
        "id": "EV4D48xpXHZh",
        "colab_type": "text"
      },
      "source": [
        "##### Visualizing Logistic Regression's train performance"
      ]
    },
    {
      "cell_type": "code",
      "metadata": {
        "id": "MPykT_wXXDby",
        "colab_type": "code",
        "colab": {
          "base_uri": "https://localhost:8080/",
          "height": 266
        },
        "outputId": "778291d3-b752-4bd5-e5dc-71df050b51d8"
      },
      "source": [
        "plt.scatter(train_features['sepal_length'], train_features['sepal_width'], c = train_labels)\n",
        "ax = plt.gca()\n",
        "ax.autoscale = False\n",
        "xvals = np.array(ax.get_xlim())\n",
        "yvals = -(xvals * train_W[0][0]) / train_W[0][1]\n",
        "plt.plot(xvals, yvals)\n",
        "plt.show()"
      ],
      "execution_count": 142,
      "outputs": [
        {
          "output_type": "display_data",
          "data": {
            "image/png": "[encoded data removed]",
            "text/plain": [
              "<Figure size 432x288 with 1 Axes>"
            ]
          },
          "metadata": {
            "tags": []
          }
        }
      ]
    },
    {
      "cell_type": "markdown",
      "metadata": {
        "id": "buk5BQy6ZJQN",
        "colab_type": "text"
      },
      "source": [
        "##### Making **Test** predictions"
      ]
    },
    {
      "cell_type": "code",
      "metadata": {
        "id": "M4A3ALJtXYSu",
        "colab_type": "code",
        "colab": {}
      },
      "source": [
        "test_preds = logit_model.predict(test_features)\n",
        "test_pred_probabilities = logit_model.predict_proba(test_features)"
      ],
      "execution_count": 0,
      "outputs": []
    },
    {
      "cell_type": "code",
      "metadata": {
        "id": "QsYBPPveZP-u",
        "colab_type": "code",
        "colab": {}
      },
      "source": [
        "#parse predictions to dataframe\n",
        "test_predictions = pd.DataFrame(columns = ['Predictions', 'Predicted Probabilities', 'True Labels'])\n",
        "test_predictions['True Labels'] = test_labels\n",
        "test_predictions['Predictions'] = test_preds\n",
        "test_predictions['Predicted Probabilities'] = test_pred_probabilities\n"
      ],
      "execution_count": 0,
      "outputs": []
    },
    {
      "cell_type": "code",
      "metadata": {
        "id": "v_PauofNZizq",
        "colab_type": "code",
        "colab": {
          "base_uri": "https://localhost:8080/",
          "height": 51
        },
        "outputId": "7aafc578-df45-4188-cb2b-669ea5bc2918"
      },
      "source": [
        "#get coefficeints and intercepts\n",
        "test_W, test_b = logit_model.coef_, logit_model.intercept_\n",
        "test_W, test_b"
      ],
      "execution_count": 144,
      "outputs": [
        {
          "output_type": "execute_result",
          "data": {
            "text/plain": [
              "(array([[ 0.39669002, -0.85822915,  2.17651167,  0.9312474 ]]),\n",
              " array([-6.16435819]))"
            ]
          },
          "metadata": {
            "tags": []
          },
          "execution_count": 144
        }
      ]
    },
    {
      "cell_type": "code",
      "metadata": {
        "id": "L3JCZ15wZkyb",
        "colab_type": "code",
        "colab": {
          "base_uri": "https://localhost:8080/",
          "height": 669
        },
        "outputId": "caea9aff-9a3c-4691-99ba-7de7640467de"
      },
      "source": [
        "#print predictions\n",
        "test_predictions"
      ],
      "execution_count": 138,
      "outputs": [
        {
          "output_type": "execute_result",
          "data": {
            "text/html": [
              "<div>\n",
              "<style scoped>\n",
              "    .dataframe tbody tr th:only-of-type {\n",
              "        vertical-align: middle;\n",
              "    }\n",
              "\n",
              "    .dataframe tbody tr th {\n",
              "        vertical-align: top;\n",
              "    }\n",
              "\n",
              "    .dataframe thead th {\n",
              "        text-align: right;\n",
              "    }\n",
              "</style>\n",
              "<table border=\"1\" class=\"dataframe\">\n",
              "  <thead>\n",
              "    <tr style=\"text-align: right;\">\n",
              "      <th></th>\n",
              "      <th>Predictions</th>\n",
              "      <th>Predicted Probabilities</th>\n",
              "      <th>True Labels</th>\n",
              "    </tr>\n",
              "  </thead>\n",
              "  <tbody>\n",
              "    <tr>\n",
              "      <th>19</th>\n",
              "      <td>0</td>\n",
              "      <td>0.979334</td>\n",
              "      <td>0</td>\n",
              "    </tr>\n",
              "    <tr>\n",
              "      <th>14</th>\n",
              "      <td>0</td>\n",
              "      <td>0.988996</td>\n",
              "      <td>0</td>\n",
              "    </tr>\n",
              "    <tr>\n",
              "      <th>43</th>\n",
              "      <td>0</td>\n",
              "      <td>0.958654</td>\n",
              "      <td>0</td>\n",
              "    </tr>\n",
              "    <tr>\n",
              "      <th>37</th>\n",
              "      <td>0</td>\n",
              "      <td>0.984782</td>\n",
              "      <td>0</td>\n",
              "    </tr>\n",
              "    <tr>\n",
              "      <th>66</th>\n",
              "      <td>1</td>\n",
              "      <td>0.009252</td>\n",
              "      <td>1</td>\n",
              "    </tr>\n",
              "    <tr>\n",
              "      <th>3</th>\n",
              "      <td>0</td>\n",
              "      <td>0.972052</td>\n",
              "      <td>0</td>\n",
              "    </tr>\n",
              "    <tr>\n",
              "      <th>79</th>\n",
              "      <td>1</td>\n",
              "      <td>0.082080</td>\n",
              "      <td>1</td>\n",
              "    </tr>\n",
              "    <tr>\n",
              "      <th>41</th>\n",
              "      <td>0</td>\n",
              "      <td>0.962469</td>\n",
              "      <td>0</td>\n",
              "    </tr>\n",
              "    <tr>\n",
              "      <th>38</th>\n",
              "      <td>0</td>\n",
              "      <td>0.981619</td>\n",
              "      <td>0</td>\n",
              "    </tr>\n",
              "    <tr>\n",
              "      <th>68</th>\n",
              "      <td>1</td>\n",
              "      <td>0.003691</td>\n",
              "      <td>1</td>\n",
              "    </tr>\n",
              "    <tr>\n",
              "      <th>2</th>\n",
              "      <td>0</td>\n",
              "      <td>0.982545</td>\n",
              "      <td>0</td>\n",
              "    </tr>\n",
              "    <tr>\n",
              "      <th>1</th>\n",
              "      <td>0</td>\n",
              "      <td>0.972399</td>\n",
              "      <td>0</td>\n",
              "    </tr>\n",
              "    <tr>\n",
              "      <th>60</th>\n",
              "      <td>1</td>\n",
              "      <td>0.065886</td>\n",
              "      <td>1</td>\n",
              "    </tr>\n",
              "    <tr>\n",
              "      <th>53</th>\n",
              "      <td>1</td>\n",
              "      <td>0.018703</td>\n",
              "      <td>1</td>\n",
              "    </tr>\n",
              "    <tr>\n",
              "      <th>95</th>\n",
              "      <td>1</td>\n",
              "      <td>0.022293</td>\n",
              "      <td>1</td>\n",
              "    </tr>\n",
              "    <tr>\n",
              "      <th>74</th>\n",
              "      <td>1</td>\n",
              "      <td>0.011484</td>\n",
              "      <td>1</td>\n",
              "    </tr>\n",
              "    <tr>\n",
              "      <th>92</th>\n",
              "      <td>1</td>\n",
              "      <td>0.023463</td>\n",
              "      <td>1</td>\n",
              "    </tr>\n",
              "    <tr>\n",
              "      <th>26</th>\n",
              "      <td>0</td>\n",
              "      <td>0.962456</td>\n",
              "      <td>0</td>\n",
              "    </tr>\n",
              "    <tr>\n",
              "      <th>59</th>\n",
              "      <td>1</td>\n",
              "      <td>0.033139</td>\n",
              "      <td>1</td>\n",
              "    </tr>\n",
              "    <tr>\n",
              "      <th>46</th>\n",
              "      <td>0</td>\n",
              "      <td>0.976657</td>\n",
              "      <td>0</td>\n",
              "    </tr>\n",
              "  </tbody>\n",
              "</table>\n",
              "</div>"
            ],
            "text/plain": [
              "    Predictions  Predicted Probabilities  True Labels\n",
              "19            0                 0.979334            0\n",
              "14            0                 0.988996            0\n",
              "43            0                 0.958654            0\n",
              "37            0                 0.984782            0\n",
              "66            1                 0.009252            1\n",
              "3             0                 0.972052            0\n",
              "79            1                 0.082080            1\n",
              "41            0                 0.962469            0\n",
              "38            0                 0.981619            0\n",
              "68            1                 0.003691            1\n",
              "2             0                 0.982545            0\n",
              "1             0                 0.972399            0\n",
              "60            1                 0.065886            1\n",
              "53            1                 0.018703            1\n",
              "95            1                 0.022293            1\n",
              "74            1                 0.011484            1\n",
              "92            1                 0.023463            1\n",
              "26            0                 0.962456            0\n",
              "59            1                 0.033139            1\n",
              "46            0                 0.976657            0"
            ]
          },
          "metadata": {
            "tags": []
          },
          "execution_count": 138
        }
      ]
    },
    {
      "cell_type": "code",
      "metadata": {
        "id": "6biq29PBaI_1",
        "colab_type": "code",
        "colab": {
          "base_uri": "https://localhost:8080/",
          "height": 313
        },
        "outputId": "ead08e49-f739-4b27-dbf6-cda699355609"
      },
      "source": [
        "#test accuracy\n",
        "test_confusion_matrix = confusion_matrix(test_preds, test_labels)\n",
        "test_accuracy_score = accuracy_score(test_preds, test_labels)\n",
        "test_disp = plot_confusion_matrix(logit_model, test_features, test_labels, cmap = plt.cm.Blues)\n",
        "print(\"Accuracy score: \")\n",
        "print(test_accuracy_score)"
      ],
      "execution_count": 162,
      "outputs": [
        {
          "output_type": "stream",
          "text": [
            "Accuracy score: \n",
            "1.0\n"
          ],
          "name": "stdout"
        },
        {
          "output_type": "display_data",
          "data": {
            "image/png": "[encoded data removed]",
            "text/plain": [
              "<Figure size 432x288 with 2 Axes>"
            ]
          },
          "metadata": {
            "tags": []
          }
        }
      ]
    },
    {
      "cell_type": "markdown",
      "metadata": {
        "id": "ccg-eWVAZumq",
        "colab_type": "text"
      },
      "source": [
        "##### Visualizing Logisitc Regression's Test performance"
      ]
    },
    {
      "cell_type": "code",
      "metadata": {
        "id": "wEjdn5n5ZmrG",
        "colab_type": "code",
        "colab": {
          "base_uri": "https://localhost:8080/",
          "height": 265
        },
        "outputId": "955ca327-5740-41b7-d1ad-99fbe8c5766a"
      },
      "source": [
        "plt.scatter(test_features['sepal_length'], test_features['sepal_width'], c = test_labels)\n",
        "ax = plt.gca()\n",
        "ax.autoscale = False\n",
        "xvals = np.array(ax.get_xlim())\n",
        "yvals = -(xvals * test_W[0][0]) / test_W[0][1]\n",
        "plt.plot(xvals, yvals)\n",
        "plt.show()"
      ],
      "execution_count": 145,
      "outputs": [
        {
          "output_type": "display_data",
          "data": {
            "image/png": "[encoded data removed]",
            "text/plain": [
              "<Figure size 432x288 with 1 Axes>"
            ]
          },
          "metadata": {
            "tags": []
          }
        }
      ]
    },
    {
      "cell_type": "markdown",
      "metadata": {
        "id": "oLw7JVC5aEKY",
        "colab_type": "text"
      },
      "source": [
        "### Questions?\n",
        "* Does accuracy score look good? \n",
        "=> Yes\n",
        "* Does the model work that well? \n",
        "=> Yes, but not really. The dataset is too small (150 records) to conclude the model's performance\n",
        "* How to improve?\n",
        "=> Support Vector Machine (SVM) or Decision tree"
      ]
    },
    {
      "cell_type": "markdown",
      "metadata": {
        "id": "UlqGV98udcaO",
        "colab_type": "text"
      },
      "source": [
        "**References**\n",
        "* Logistic Regression in Sci-Kit Learn, https://blog.goodaudience.com/classifying-flowers-using-logistic-regression-in-sci-kit-learn-38262416e4c6\n",
        "* Sigmoid Function, https://www.stat.cmu.edu/~cshalizi/uADA/12/lectures/ch12.pdf"
      ]
    }
  ]
}