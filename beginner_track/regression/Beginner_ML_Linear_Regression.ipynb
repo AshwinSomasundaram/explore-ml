{
 "cells": [
  {
   "cell_type": "markdown",
   "metadata": {
    "colab_type": "text",
    "id": "G1cllfy245M3"
   },
   "source": [
    "## **Linear Regression**"
   ]
  },
  {
   "cell_type": "markdown",
   "metadata": {
    "colab_type": "text",
    "id": "U2WNitXF54dS"
   },
   "source": [
    "Linear Regression is one of the algorithms of Machine Learning that is categorized as a Supervised Learning algorithm.\n",
    "\n",
    "Linear regression is used to find the relationship between the target and one or more predictors. Here the target is the dependent variable and the predictors are the independent variables.\n",
    "Examples of Regression:\n",
    "1. Predicting the house price\n",
    "2. Predict the sale of products in the future based on past buying behaviour\n",
    "3. Trend analysis of stock market price"
   ]
  },
  {
   "cell_type": "markdown",
   "metadata": {
    "colab_type": "text",
    "id": "atHuNMxd5FJG"
   },
   "source": [
    "![alt text](https://images.slideplayer.com/25/7764095/slides/slide_4.jpg)"
   ]
  },
  {
   "cell_type": "markdown",
   "metadata": {
    "colab_type": "text",
    "id": "c9Q9u4SX5FM6"
   },
   "source": [
    "Multiple linear regression attempts to model the relationship between two or more explanatory variables and a response variable by fitting a linear equation to observed data. "
   ]
  },
  {
   "cell_type": "markdown",
   "metadata": {
    "colab_type": "text",
    "id": "YzvsmF-G5FfS"
   },
   "source": [
    "![image.png](data:image/png;base64,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)"
   ]
  },
  {
   "cell_type": "markdown",
   "metadata": {
    "colab_type": "text",
    "id": "XxYAQthR4KTN"
   },
   "source": [
    "\n",
    "\n",
    "1. CRIM: This column represents per capita crime rate by town\n",
    "2. ZN: This column represents the proportion of residential land zoned for lots larger than 25,000 sq.ft.\n",
    "3. INDUS: This column represents the proportion of non-retail business acres per town.\n",
    "4. CHAS: This column represents the Charles River dummy variable (this is equal to 1 if tract bounds river; 0 otherwise)\n",
    "NOX: This column represents the concentration of the nitric oxide (parts per 10 million)\n",
    "5. RM: This column represents the average number of rooms per dwelling\n",
    "6. AGE: This column represents the proportion of owner-occupied units built prior to 1940\n",
    "7. DIS: This column represents the weighted distances to five Boston employment centers\n",
    "8. RAD: This column represents the index of accessibility to radial highways\n",
    "9. TAX: This column represents the full-value property-tax rate per $10,000\n",
    "\n",
    "10. PTRATIO: This column represents the pupil-teacher ratio by town\n",
    "11. B: This is calculated as 1000(Bk — 0.63)², where Bk is the proportion of people of African American descent by town\n",
    "12. LSTAT: This is the percentage lower status of the population\n",
    "13. MEDV: This is the median value of owner-occupied homes in $1000s\n",
    "\n"
   ]
  },
  {
   "cell_type": "code",
   "execution_count": 1,
   "metadata": {
    "colab": {},
    "colab_type": "code",
    "id": "CM_bcVU0xzaR"
   },
   "outputs": [],
   "source": [
    "import numpy as np\n",
    "import pandas as pd\n",
    "import matplotlib.pyplot as plt\n",
    "import seaborn as sns\n",
    "%matplotlib inline\n",
    "import sklearn"
   ]
  },
  {
   "cell_type": "code",
   "execution_count": 2,
   "metadata": {
    "colab": {},
    "colab_type": "code",
    "id": "zzZEmg0F39P9"
   },
   "outputs": [],
   "source": [
    "from sklearn.datasets import load_boston\n",
    "boston = load_boston()"
   ]
  },
  {
   "cell_type": "code",
   "execution_count": 3,
   "metadata": {
    "colab": {
     "base_uri": "https://localhost:8080/",
     "height": 204
    },
    "colab_type": "code",
    "id": "7QXxmI-Q4APU",
    "outputId": "89fdfefb-f486-4023-a29c-33a031ef4069"
   },
   "outputs": [
    {
     "data": {
      "text/html": [
       "<div>\n",
       "<style scoped>\n",
       "    .dataframe tbody tr th:only-of-type {\n",
       "        vertical-align: middle;\n",
       "    }\n",
       "\n",
       "    .dataframe tbody tr th {\n",
       "        vertical-align: top;\n",
       "    }\n",
       "\n",
       "    .dataframe thead th {\n",
       "        text-align: right;\n",
       "    }\n",
       "</style>\n",
       "<table border=\"1\" class=\"dataframe\">\n",
       "  <thead>\n",
       "    <tr style=\"text-align: right;\">\n",
       "      <th></th>\n",
       "      <th>0</th>\n",
       "      <th>1</th>\n",
       "      <th>2</th>\n",
       "      <th>3</th>\n",
       "      <th>4</th>\n",
       "      <th>5</th>\n",
       "      <th>6</th>\n",
       "      <th>7</th>\n",
       "      <th>8</th>\n",
       "      <th>9</th>\n",
       "      <th>10</th>\n",
       "      <th>11</th>\n",
       "      <th>12</th>\n",
       "    </tr>\n",
       "  </thead>\n",
       "  <tbody>\n",
       "    <tr>\n",
       "      <th>0</th>\n",
       "      <td>0.00632</td>\n",
       "      <td>18.0</td>\n",
       "      <td>2.31</td>\n",
       "      <td>0.0</td>\n",
       "      <td>0.538</td>\n",
       "      <td>6.575</td>\n",
       "      <td>65.2</td>\n",
       "      <td>4.0900</td>\n",
       "      <td>1.0</td>\n",
       "      <td>296.0</td>\n",
       "      <td>15.3</td>\n",
       "      <td>396.90</td>\n",
       "      <td>4.98</td>\n",
       "    </tr>\n",
       "    <tr>\n",
       "      <th>1</th>\n",
       "      <td>0.02731</td>\n",
       "      <td>0.0</td>\n",
       "      <td>7.07</td>\n",
       "      <td>0.0</td>\n",
       "      <td>0.469</td>\n",
       "      <td>6.421</td>\n",
       "      <td>78.9</td>\n",
       "      <td>4.9671</td>\n",
       "      <td>2.0</td>\n",
       "      <td>242.0</td>\n",
       "      <td>17.8</td>\n",
       "      <td>396.90</td>\n",
       "      <td>9.14</td>\n",
       "    </tr>\n",
       "    <tr>\n",
       "      <th>2</th>\n",
       "      <td>0.02729</td>\n",
       "      <td>0.0</td>\n",
       "      <td>7.07</td>\n",
       "      <td>0.0</td>\n",
       "      <td>0.469</td>\n",
       "      <td>7.185</td>\n",
       "      <td>61.1</td>\n",
       "      <td>4.9671</td>\n",
       "      <td>2.0</td>\n",
       "      <td>242.0</td>\n",
       "      <td>17.8</td>\n",
       "      <td>392.83</td>\n",
       "      <td>4.03</td>\n",
       "    </tr>\n",
       "    <tr>\n",
       "      <th>3</th>\n",
       "      <td>0.03237</td>\n",
       "      <td>0.0</td>\n",
       "      <td>2.18</td>\n",
       "      <td>0.0</td>\n",
       "      <td>0.458</td>\n",
       "      <td>6.998</td>\n",
       "      <td>45.8</td>\n",
       "      <td>6.0622</td>\n",
       "      <td>3.0</td>\n",
       "      <td>222.0</td>\n",
       "      <td>18.7</td>\n",
       "      <td>394.63</td>\n",
       "      <td>2.94</td>\n",
       "    </tr>\n",
       "    <tr>\n",
       "      <th>4</th>\n",
       "      <td>0.06905</td>\n",
       "      <td>0.0</td>\n",
       "      <td>2.18</td>\n",
       "      <td>0.0</td>\n",
       "      <td>0.458</td>\n",
       "      <td>7.147</td>\n",
       "      <td>54.2</td>\n",
       "      <td>6.0622</td>\n",
       "      <td>3.0</td>\n",
       "      <td>222.0</td>\n",
       "      <td>18.7</td>\n",
       "      <td>396.90</td>\n",
       "      <td>5.33</td>\n",
       "    </tr>\n",
       "  </tbody>\n",
       "</table>\n",
       "</div>"
      ],
      "text/plain": [
       "         0     1     2    3      4      5     6       7    8      9    10  \\\n",
       "0  0.00632  18.0  2.31  0.0  0.538  6.575  65.2  4.0900  1.0  296.0  15.3   \n",
       "1  0.02731   0.0  7.07  0.0  0.469  6.421  78.9  4.9671  2.0  242.0  17.8   \n",
       "2  0.02729   0.0  7.07  0.0  0.469  7.185  61.1  4.9671  2.0  242.0  17.8   \n",
       "3  0.03237   0.0  2.18  0.0  0.458  6.998  45.8  6.0622  3.0  222.0  18.7   \n",
       "4  0.06905   0.0  2.18  0.0  0.458  7.147  54.2  6.0622  3.0  222.0  18.7   \n",
       "\n",
       "       11    12  \n",
       "0  396.90  4.98  \n",
       "1  396.90  9.14  \n",
       "2  392.83  4.03  \n",
       "3  394.63  2.94  \n",
       "4  396.90  5.33  "
      ]
     },
     "execution_count": 3,
     "metadata": {},
     "output_type": "execute_result"
    }
   ],
   "source": [
    "bos = pd.DataFrame(boston.data)\n",
    "bos.head()"
   ]
  },
  {
   "cell_type": "code",
   "execution_count": 4,
   "metadata": {
    "colab": {
     "base_uri": "https://localhost:8080/",
     "height": 204
    },
    "colab_type": "code",
    "id": "QoRqeGyi4Cd9",
    "outputId": "9b688cb1-fb3f-4a97-ecd1-6a72651d18f2"
   },
   "outputs": [
    {
     "data": {
      "text/html": [
       "<div>\n",
       "<style scoped>\n",
       "    .dataframe tbody tr th:only-of-type {\n",
       "        vertical-align: middle;\n",
       "    }\n",
       "\n",
       "    .dataframe tbody tr th {\n",
       "        vertical-align: top;\n",
       "    }\n",
       "\n",
       "    .dataframe thead th {\n",
       "        text-align: right;\n",
       "    }\n",
       "</style>\n",
       "<table border=\"1\" class=\"dataframe\">\n",
       "  <thead>\n",
       "    <tr style=\"text-align: right;\">\n",
       "      <th></th>\n",
       "      <th>CRIM</th>\n",
       "      <th>ZN</th>\n",
       "      <th>INDUS</th>\n",
       "      <th>CHAS</th>\n",
       "      <th>NOX</th>\n",
       "      <th>RM</th>\n",
       "      <th>AGE</th>\n",
       "      <th>DIS</th>\n",
       "      <th>RAD</th>\n",
       "      <th>TAX</th>\n",
       "      <th>PTRATIO</th>\n",
       "      <th>B</th>\n",
       "      <th>LSTAT</th>\n",
       "    </tr>\n",
       "  </thead>\n",
       "  <tbody>\n",
       "    <tr>\n",
       "      <th>0</th>\n",
       "      <td>0.00632</td>\n",
       "      <td>18.0</td>\n",
       "      <td>2.31</td>\n",
       "      <td>0.0</td>\n",
       "      <td>0.538</td>\n",
       "      <td>6.575</td>\n",
       "      <td>65.2</td>\n",
       "      <td>4.0900</td>\n",
       "      <td>1.0</td>\n",
       "      <td>296.0</td>\n",
       "      <td>15.3</td>\n",
       "      <td>396.90</td>\n",
       "      <td>4.98</td>\n",
       "    </tr>\n",
       "    <tr>\n",
       "      <th>1</th>\n",
       "      <td>0.02731</td>\n",
       "      <td>0.0</td>\n",
       "      <td>7.07</td>\n",
       "      <td>0.0</td>\n",
       "      <td>0.469</td>\n",
       "      <td>6.421</td>\n",
       "      <td>78.9</td>\n",
       "      <td>4.9671</td>\n",
       "      <td>2.0</td>\n",
       "      <td>242.0</td>\n",
       "      <td>17.8</td>\n",
       "      <td>396.90</td>\n",
       "      <td>9.14</td>\n",
       "    </tr>\n",
       "    <tr>\n",
       "      <th>2</th>\n",
       "      <td>0.02729</td>\n",
       "      <td>0.0</td>\n",
       "      <td>7.07</td>\n",
       "      <td>0.0</td>\n",
       "      <td>0.469</td>\n",
       "      <td>7.185</td>\n",
       "      <td>61.1</td>\n",
       "      <td>4.9671</td>\n",
       "      <td>2.0</td>\n",
       "      <td>242.0</td>\n",
       "      <td>17.8</td>\n",
       "      <td>392.83</td>\n",
       "      <td>4.03</td>\n",
       "    </tr>\n",
       "    <tr>\n",
       "      <th>3</th>\n",
       "      <td>0.03237</td>\n",
       "      <td>0.0</td>\n",
       "      <td>2.18</td>\n",
       "      <td>0.0</td>\n",
       "      <td>0.458</td>\n",
       "      <td>6.998</td>\n",
       "      <td>45.8</td>\n",
       "      <td>6.0622</td>\n",
       "      <td>3.0</td>\n",
       "      <td>222.0</td>\n",
       "      <td>18.7</td>\n",
       "      <td>394.63</td>\n",
       "      <td>2.94</td>\n",
       "    </tr>\n",
       "    <tr>\n",
       "      <th>4</th>\n",
       "      <td>0.06905</td>\n",
       "      <td>0.0</td>\n",
       "      <td>2.18</td>\n",
       "      <td>0.0</td>\n",
       "      <td>0.458</td>\n",
       "      <td>7.147</td>\n",
       "      <td>54.2</td>\n",
       "      <td>6.0622</td>\n",
       "      <td>3.0</td>\n",
       "      <td>222.0</td>\n",
       "      <td>18.7</td>\n",
       "      <td>396.90</td>\n",
       "      <td>5.33</td>\n",
       "    </tr>\n",
       "  </tbody>\n",
       "</table>\n",
       "</div>"
      ],
      "text/plain": [
       "      CRIM    ZN  INDUS  CHAS    NOX     RM   AGE     DIS  RAD    TAX  \\\n",
       "0  0.00632  18.0   2.31   0.0  0.538  6.575  65.2  4.0900  1.0  296.0   \n",
       "1  0.02731   0.0   7.07   0.0  0.469  6.421  78.9  4.9671  2.0  242.0   \n",
       "2  0.02729   0.0   7.07   0.0  0.469  7.185  61.1  4.9671  2.0  242.0   \n",
       "3  0.03237   0.0   2.18   0.0  0.458  6.998  45.8  6.0622  3.0  222.0   \n",
       "4  0.06905   0.0   2.18   0.0  0.458  7.147  54.2  6.0622  3.0  222.0   \n",
       "\n",
       "   PTRATIO       B  LSTAT  \n",
       "0     15.3  396.90   4.98  \n",
       "1     17.8  396.90   9.14  \n",
       "2     17.8  392.83   4.03  \n",
       "3     18.7  394.63   2.94  \n",
       "4     18.7  396.90   5.33  "
      ]
     },
     "execution_count": 4,
     "metadata": {},
     "output_type": "execute_result"
    }
   ],
   "source": [
    "bos.columns = ['CRIM', 'ZN', 'INDUS', 'CHAS', 'NOX', 'RM', 'AGE', 'DIS', 'RAD', 'TAX', 'PTRATIO', 'B', 'LSTAT']\n",
    "bos.head()"
   ]
  },
  {
   "cell_type": "markdown",
   "metadata": {
    "colab_type": "text",
    "id": "USWTn0PL7-1D"
   },
   "source": [
    "The variable MEDV indicates the prices of the houses and is the target variable. The rest of the variables are the predictors based on which we will predict the value of the house.\n",
    "\n",
    "In the above result, we can see that the target variable ‘MEDV’ is missing from the data. We will create a new column of target values and add them to the dataframe."
   ]
  },
  {
   "cell_type": "code",
   "execution_count": 5,
   "metadata": {
    "colab": {},
    "colab_type": "code",
    "id": "_SxGFann4FZE"
   },
   "outputs": [],
   "source": [
    "bos['MEDV'] = boston.target"
   ]
  },
  {
   "cell_type": "code",
   "execution_count": 6,
   "metadata": {
    "colab": {
     "base_uri": "https://localhost:8080/",
     "height": 204
    },
    "colab_type": "code",
    "id": "3Cn5yenI7_Tt",
    "outputId": "2f8c5bb7-9945-4cd8-e3ba-ab1569429500"
   },
   "outputs": [
    {
     "data": {
      "text/html": [
       "<div>\n",
       "<style scoped>\n",
       "    .dataframe tbody tr th:only-of-type {\n",
       "        vertical-align: middle;\n",
       "    }\n",
       "\n",
       "    .dataframe tbody tr th {\n",
       "        vertical-align: top;\n",
       "    }\n",
       "\n",
       "    .dataframe thead th {\n",
       "        text-align: right;\n",
       "    }\n",
       "</style>\n",
       "<table border=\"1\" class=\"dataframe\">\n",
       "  <thead>\n",
       "    <tr style=\"text-align: right;\">\n",
       "      <th></th>\n",
       "      <th>CRIM</th>\n",
       "      <th>ZN</th>\n",
       "      <th>INDUS</th>\n",
       "      <th>CHAS</th>\n",
       "      <th>NOX</th>\n",
       "      <th>RM</th>\n",
       "      <th>AGE</th>\n",
       "      <th>DIS</th>\n",
       "      <th>RAD</th>\n",
       "      <th>TAX</th>\n",
       "      <th>PTRATIO</th>\n",
       "      <th>B</th>\n",
       "      <th>LSTAT</th>\n",
       "      <th>MEDV</th>\n",
       "    </tr>\n",
       "  </thead>\n",
       "  <tbody>\n",
       "    <tr>\n",
       "      <th>0</th>\n",
       "      <td>0.00632</td>\n",
       "      <td>18.0</td>\n",
       "      <td>2.31</td>\n",
       "      <td>0.0</td>\n",
       "      <td>0.538</td>\n",
       "      <td>6.575</td>\n",
       "      <td>65.2</td>\n",
       "      <td>4.0900</td>\n",
       "      <td>1.0</td>\n",
       "      <td>296.0</td>\n",
       "      <td>15.3</td>\n",
       "      <td>396.90</td>\n",
       "      <td>4.98</td>\n",
       "      <td>24.0</td>\n",
       "    </tr>\n",
       "    <tr>\n",
       "      <th>1</th>\n",
       "      <td>0.02731</td>\n",
       "      <td>0.0</td>\n",
       "      <td>7.07</td>\n",
       "      <td>0.0</td>\n",
       "      <td>0.469</td>\n",
       "      <td>6.421</td>\n",
       "      <td>78.9</td>\n",
       "      <td>4.9671</td>\n",
       "      <td>2.0</td>\n",
       "      <td>242.0</td>\n",
       "      <td>17.8</td>\n",
       "      <td>396.90</td>\n",
       "      <td>9.14</td>\n",
       "      <td>21.6</td>\n",
       "    </tr>\n",
       "    <tr>\n",
       "      <th>2</th>\n",
       "      <td>0.02729</td>\n",
       "      <td>0.0</td>\n",
       "      <td>7.07</td>\n",
       "      <td>0.0</td>\n",
       "      <td>0.469</td>\n",
       "      <td>7.185</td>\n",
       "      <td>61.1</td>\n",
       "      <td>4.9671</td>\n",
       "      <td>2.0</td>\n",
       "      <td>242.0</td>\n",
       "      <td>17.8</td>\n",
       "      <td>392.83</td>\n",
       "      <td>4.03</td>\n",
       "      <td>34.7</td>\n",
       "    </tr>\n",
       "    <tr>\n",
       "      <th>3</th>\n",
       "      <td>0.03237</td>\n",
       "      <td>0.0</td>\n",
       "      <td>2.18</td>\n",
       "      <td>0.0</td>\n",
       "      <td>0.458</td>\n",
       "      <td>6.998</td>\n",
       "      <td>45.8</td>\n",
       "      <td>6.0622</td>\n",
       "      <td>3.0</td>\n",
       "      <td>222.0</td>\n",
       "      <td>18.7</td>\n",
       "      <td>394.63</td>\n",
       "      <td>2.94</td>\n",
       "      <td>33.4</td>\n",
       "    </tr>\n",
       "    <tr>\n",
       "      <th>4</th>\n",
       "      <td>0.06905</td>\n",
       "      <td>0.0</td>\n",
       "      <td>2.18</td>\n",
       "      <td>0.0</td>\n",
       "      <td>0.458</td>\n",
       "      <td>7.147</td>\n",
       "      <td>54.2</td>\n",
       "      <td>6.0622</td>\n",
       "      <td>3.0</td>\n",
       "      <td>222.0</td>\n",
       "      <td>18.7</td>\n",
       "      <td>396.90</td>\n",
       "      <td>5.33</td>\n",
       "      <td>36.2</td>\n",
       "    </tr>\n",
       "  </tbody>\n",
       "</table>\n",
       "</div>"
      ],
      "text/plain": [
       "      CRIM    ZN  INDUS  CHAS    NOX     RM   AGE     DIS  RAD    TAX  \\\n",
       "0  0.00632  18.0   2.31   0.0  0.538  6.575  65.2  4.0900  1.0  296.0   \n",
       "1  0.02731   0.0   7.07   0.0  0.469  6.421  78.9  4.9671  2.0  242.0   \n",
       "2  0.02729   0.0   7.07   0.0  0.469  7.185  61.1  4.9671  2.0  242.0   \n",
       "3  0.03237   0.0   2.18   0.0  0.458  6.998  45.8  6.0622  3.0  222.0   \n",
       "4  0.06905   0.0   2.18   0.0  0.458  7.147  54.2  6.0622  3.0  222.0   \n",
       "\n",
       "   PTRATIO       B  LSTAT  MEDV  \n",
       "0     15.3  396.90   4.98  24.0  \n",
       "1     17.8  396.90   9.14  21.6  \n",
       "2     17.8  392.83   4.03  34.7  \n",
       "3     18.7  394.63   2.94  33.4  \n",
       "4     18.7  396.90   5.33  36.2  "
      ]
     },
     "execution_count": 6,
     "metadata": {},
     "output_type": "execute_result"
    }
   ],
   "source": [
    "bos.head()"
   ]
  },
  {
   "cell_type": "code",
   "execution_count": 7,
   "metadata": {
    "colab": {
     "base_uri": "https://localhost:8080/",
     "height": 340
    },
    "colab_type": "code",
    "id": "5GPp4C7Q8JcR",
    "outputId": "6b4351c2-dac9-47db-af47-98e13900f23a"
   },
   "outputs": [
    {
     "name": "stdout",
     "output_type": "stream",
     "text": [
      "<class 'pandas.core.frame.DataFrame'>\n",
      "RangeIndex: 506 entries, 0 to 505\n",
      "Data columns (total 14 columns):\n",
      "CRIM       506 non-null float64\n",
      "ZN         506 non-null float64\n",
      "INDUS      506 non-null float64\n",
      "CHAS       506 non-null float64\n",
      "NOX        506 non-null float64\n",
      "RM         506 non-null float64\n",
      "AGE        506 non-null float64\n",
      "DIS        506 non-null float64\n",
      "RAD        506 non-null float64\n",
      "TAX        506 non-null float64\n",
      "PTRATIO    506 non-null float64\n",
      "B          506 non-null float64\n",
      "LSTAT      506 non-null float64\n",
      "MEDV       506 non-null float64\n",
      "dtypes: float64(14)\n",
      "memory usage: 55.5 KB\n"
     ]
    }
   ],
   "source": [
    "bos.info()"
   ]
  },
  {
   "cell_type": "markdown",
   "metadata": {
    "colab_type": "text",
    "id": "zYSjLoaY8ZIY"
   },
   "source": [
    "Checking the statistical values of the dataset using the describe() function."
   ]
  },
  {
   "cell_type": "code",
   "execution_count": 8,
   "metadata": {
    "colab": {
     "base_uri": "https://localhost:8080/",
     "height": 297
    },
    "colab_type": "code",
    "id": "koC8GCYh8OHj",
    "outputId": "505c3533-ef4c-46af-d428-f140abbb2203"
   },
   "outputs": [
    {
     "data": {
      "text/html": [
       "<div>\n",
       "<style scoped>\n",
       "    .dataframe tbody tr th:only-of-type {\n",
       "        vertical-align: middle;\n",
       "    }\n",
       "\n",
       "    .dataframe tbody tr th {\n",
       "        vertical-align: top;\n",
       "    }\n",
       "\n",
       "    .dataframe thead th {\n",
       "        text-align: right;\n",
       "    }\n",
       "</style>\n",
       "<table border=\"1\" class=\"dataframe\">\n",
       "  <thead>\n",
       "    <tr style=\"text-align: right;\">\n",
       "      <th></th>\n",
       "      <th>CRIM</th>\n",
       "      <th>ZN</th>\n",
       "      <th>INDUS</th>\n",
       "      <th>CHAS</th>\n",
       "      <th>NOX</th>\n",
       "      <th>RM</th>\n",
       "      <th>AGE</th>\n",
       "      <th>DIS</th>\n",
       "      <th>RAD</th>\n",
       "      <th>TAX</th>\n",
       "      <th>PTRATIO</th>\n",
       "      <th>B</th>\n",
       "      <th>LSTAT</th>\n",
       "      <th>MEDV</th>\n",
       "    </tr>\n",
       "  </thead>\n",
       "  <tbody>\n",
       "    <tr>\n",
       "      <th>count</th>\n",
       "      <td>506.000000</td>\n",
       "      <td>506.000000</td>\n",
       "      <td>506.000000</td>\n",
       "      <td>506.000000</td>\n",
       "      <td>506.000000</td>\n",
       "      <td>506.000000</td>\n",
       "      <td>506.000000</td>\n",
       "      <td>506.000000</td>\n",
       "      <td>506.000000</td>\n",
       "      <td>506.000000</td>\n",
       "      <td>506.000000</td>\n",
       "      <td>506.000000</td>\n",
       "      <td>506.000000</td>\n",
       "      <td>506.000000</td>\n",
       "    </tr>\n",
       "    <tr>\n",
       "      <th>mean</th>\n",
       "      <td>3.613524</td>\n",
       "      <td>11.363636</td>\n",
       "      <td>11.136779</td>\n",
       "      <td>0.069170</td>\n",
       "      <td>0.554695</td>\n",
       "      <td>6.284634</td>\n",
       "      <td>68.574901</td>\n",
       "      <td>3.795043</td>\n",
       "      <td>9.549407</td>\n",
       "      <td>408.237154</td>\n",
       "      <td>18.455534</td>\n",
       "      <td>356.674032</td>\n",
       "      <td>12.653063</td>\n",
       "      <td>22.532806</td>\n",
       "    </tr>\n",
       "    <tr>\n",
       "      <th>std</th>\n",
       "      <td>8.601545</td>\n",
       "      <td>23.322453</td>\n",
       "      <td>6.860353</td>\n",
       "      <td>0.253994</td>\n",
       "      <td>0.115878</td>\n",
       "      <td>0.702617</td>\n",
       "      <td>28.148861</td>\n",
       "      <td>2.105710</td>\n",
       "      <td>8.707259</td>\n",
       "      <td>168.537116</td>\n",
       "      <td>2.164946</td>\n",
       "      <td>91.294864</td>\n",
       "      <td>7.141062</td>\n",
       "      <td>9.197104</td>\n",
       "    </tr>\n",
       "    <tr>\n",
       "      <th>min</th>\n",
       "      <td>0.006320</td>\n",
       "      <td>0.000000</td>\n",
       "      <td>0.460000</td>\n",
       "      <td>0.000000</td>\n",
       "      <td>0.385000</td>\n",
       "      <td>3.561000</td>\n",
       "      <td>2.900000</td>\n",
       "      <td>1.129600</td>\n",
       "      <td>1.000000</td>\n",
       "      <td>187.000000</td>\n",
       "      <td>12.600000</td>\n",
       "      <td>0.320000</td>\n",
       "      <td>1.730000</td>\n",
       "      <td>5.000000</td>\n",
       "    </tr>\n",
       "    <tr>\n",
       "      <th>25%</th>\n",
       "      <td>0.082045</td>\n",
       "      <td>0.000000</td>\n",
       "      <td>5.190000</td>\n",
       "      <td>0.000000</td>\n",
       "      <td>0.449000</td>\n",
       "      <td>5.885500</td>\n",
       "      <td>45.025000</td>\n",
       "      <td>2.100175</td>\n",
       "      <td>4.000000</td>\n",
       "      <td>279.000000</td>\n",
       "      <td>17.400000</td>\n",
       "      <td>375.377500</td>\n",
       "      <td>6.950000</td>\n",
       "      <td>17.025000</td>\n",
       "    </tr>\n",
       "    <tr>\n",
       "      <th>50%</th>\n",
       "      <td>0.256510</td>\n",
       "      <td>0.000000</td>\n",
       "      <td>9.690000</td>\n",
       "      <td>0.000000</td>\n",
       "      <td>0.538000</td>\n",
       "      <td>6.208500</td>\n",
       "      <td>77.500000</td>\n",
       "      <td>3.207450</td>\n",
       "      <td>5.000000</td>\n",
       "      <td>330.000000</td>\n",
       "      <td>19.050000</td>\n",
       "      <td>391.440000</td>\n",
       "      <td>11.360000</td>\n",
       "      <td>21.200000</td>\n",
       "    </tr>\n",
       "    <tr>\n",
       "      <th>75%</th>\n",
       "      <td>3.677083</td>\n",
       "      <td>12.500000</td>\n",
       "      <td>18.100000</td>\n",
       "      <td>0.000000</td>\n",
       "      <td>0.624000</td>\n",
       "      <td>6.623500</td>\n",
       "      <td>94.075000</td>\n",
       "      <td>5.188425</td>\n",
       "      <td>24.000000</td>\n",
       "      <td>666.000000</td>\n",
       "      <td>20.200000</td>\n",
       "      <td>396.225000</td>\n",
       "      <td>16.955000</td>\n",
       "      <td>25.000000</td>\n",
       "    </tr>\n",
       "    <tr>\n",
       "      <th>max</th>\n",
       "      <td>88.976200</td>\n",
       "      <td>100.000000</td>\n",
       "      <td>27.740000</td>\n",
       "      <td>1.000000</td>\n",
       "      <td>0.871000</td>\n",
       "      <td>8.780000</td>\n",
       "      <td>100.000000</td>\n",
       "      <td>12.126500</td>\n",
       "      <td>24.000000</td>\n",
       "      <td>711.000000</td>\n",
       "      <td>22.000000</td>\n",
       "      <td>396.900000</td>\n",
       "      <td>37.970000</td>\n",
       "      <td>50.000000</td>\n",
       "    </tr>\n",
       "  </tbody>\n",
       "</table>\n",
       "</div>"
      ],
      "text/plain": [
       "             CRIM          ZN       INDUS        CHAS         NOX          RM  \\\n",
       "count  506.000000  506.000000  506.000000  506.000000  506.000000  506.000000   \n",
       "mean     3.613524   11.363636   11.136779    0.069170    0.554695    6.284634   \n",
       "std      8.601545   23.322453    6.860353    0.253994    0.115878    0.702617   \n",
       "min      0.006320    0.000000    0.460000    0.000000    0.385000    3.561000   \n",
       "25%      0.082045    0.000000    5.190000    0.000000    0.449000    5.885500   \n",
       "50%      0.256510    0.000000    9.690000    0.000000    0.538000    6.208500   \n",
       "75%      3.677083   12.500000   18.100000    0.000000    0.624000    6.623500   \n",
       "max     88.976200  100.000000   27.740000    1.000000    0.871000    8.780000   \n",
       "\n",
       "              AGE         DIS         RAD         TAX     PTRATIO           B  \\\n",
       "count  506.000000  506.000000  506.000000  506.000000  506.000000  506.000000   \n",
       "mean    68.574901    3.795043    9.549407  408.237154   18.455534  356.674032   \n",
       "std     28.148861    2.105710    8.707259  168.537116    2.164946   91.294864   \n",
       "min      2.900000    1.129600    1.000000  187.000000   12.600000    0.320000   \n",
       "25%     45.025000    2.100175    4.000000  279.000000   17.400000  375.377500   \n",
       "50%     77.500000    3.207450    5.000000  330.000000   19.050000  391.440000   \n",
       "75%     94.075000    5.188425   24.000000  666.000000   20.200000  396.225000   \n",
       "max    100.000000   12.126500   24.000000  711.000000   22.000000  396.900000   \n",
       "\n",
       "            LSTAT        MEDV  \n",
       "count  506.000000  506.000000  \n",
       "mean    12.653063   22.532806  \n",
       "std      7.141062    9.197104  \n",
       "min      1.730000    5.000000  \n",
       "25%      6.950000   17.025000  \n",
       "50%     11.360000   21.200000  \n",
       "75%     16.955000   25.000000  \n",
       "max     37.970000   50.000000  "
      ]
     },
     "execution_count": 8,
     "metadata": {},
     "output_type": "execute_result"
    }
   ],
   "source": [
    "bos.describe()"
   ]
  },
  {
   "cell_type": "markdown",
   "metadata": {
    "colab_type": "text",
    "id": "Qm6hi4-_8lTc"
   },
   "source": [
    "We will now check for null values if any present in the dataset.\n"
   ]
  },
  {
   "cell_type": "code",
   "execution_count": 9,
   "metadata": {
    "colab": {
     "base_uri": "https://localhost:8080/",
     "height": 272
    },
    "colab_type": "code",
    "id": "75qn_clL8l7l",
    "outputId": "3c3027bf-51d5-4e12-fbde-746aabf52337"
   },
   "outputs": [
    {
     "data": {
      "text/plain": [
       "CRIM       0\n",
       "ZN         0\n",
       "INDUS      0\n",
       "CHAS       0\n",
       "NOX        0\n",
       "RM         0\n",
       "AGE        0\n",
       "DIS        0\n",
       "RAD        0\n",
       "TAX        0\n",
       "PTRATIO    0\n",
       "B          0\n",
       "LSTAT      0\n",
       "MEDV       0\n",
       "dtype: int64"
      ]
     },
     "execution_count": 9,
     "metadata": {},
     "output_type": "execute_result"
    }
   ],
   "source": [
    "bos.isnull().sum()"
   ]
  },
  {
   "cell_type": "markdown",
   "metadata": {
    "colab_type": "text",
    "id": "ERNzb6Cj8rdA"
   },
   "source": [
    "There is no null value present in the dataset."
   ]
  },
  {
   "cell_type": "markdown",
   "metadata": {
    "colab_type": "text",
    "id": "tuAeSQVJ8x3c"
   },
   "source": [
    "## EDA - Exploratory Data Analysis"
   ]
  },
  {
   "cell_type": "markdown",
   "metadata": {
    "colab_type": "text",
    "id": "M_LjVtcD8uDg"
   },
   "source": [
    "Exploratory Data Analysis is a very important step before training the model. We will use some visualizations to understand the relationship of the target variable with other variables.\n",
    "\n",
    "We will first plot the distribution of the target variable MEDV. For this we will use the distplot() function from the seaborn library."
   ]
  },
  {
   "cell_type": "code",
   "execution_count": 10,
   "metadata": {
    "colab": {
     "base_uri": "https://localhost:8080/",
     "height": 279
    },
    "colab_type": "code",
    "id": "UUUXpS4m8rtY",
    "outputId": "d1543b96-3a4f-470a-e0a1-caa769807859"
   },
   "outputs": [
    {
     "data": {
      "image/png": "[encoded data removed]",
      "text/plain": [
       "<Figure size 432x288 with 1 Axes>"
      ]
     },
     "metadata": {
      "needs_background": "light"
     },
     "output_type": "display_data"
    }
   ],
   "source": [
    "sns.distplot(bos['MEDV'])\n",
    "plt.show()"
   ]
  },
  {
   "cell_type": "markdown",
   "metadata": {
    "colab_type": "text",
    "id": "kYHWTduK9ADJ"
   },
   "source": [
    "From the above output we can see that the values of MEDV is normally distributed with some of the outliers.\n",
    "\n",
    "We will now visualize the pairplot which shows the relationships between all the features present in the dataset."
   ]
  },
  {
   "cell_type": "code",
   "execution_count": 11,
   "metadata": {
    "colab": {
     "base_uri": "https://localhost:8080/",
     "height": 1000
    },
    "colab_type": "code",
    "id": "TgCDi7S988ZU",
    "outputId": "b40a66ae-c2ac-4966-b0a4-780baca2a26c"
   },
   "outputs": [
    {
     "data": {
      "text/plain": [
       "<seaborn.axisgrid.PairGrid at 0x12f4d4910>"
      ]
     },
     "execution_count": 11,
     "metadata": {},
     "output_type": "execute_result"
    },
    {
     "name": "stdout",
     "output_type": "stream",
     "text": [
      "Error in callback <function flush_figures at 0x11c6c74d0> (for post_execute):\n"
     ]
    },
    {
     "ename": "KeyboardInterrupt",
     "evalue": "",
     "output_type": "error",
     "traceback": [
      "\u001b[0;31m---------------------------------------------------------------------------\u001b[0m",
      "\u001b[0;31mKeyboardInterrupt\u001b[0m                         Traceback (most recent call last)",
      "\u001b[0;32m/usr/local/lib/python3.7/site-packages/ipykernel/pylab/backend_inline.py\u001b[0m in \u001b[0;36mflush_figures\u001b[0;34m()\u001b[0m\n\u001b[1;32m    115\u001b[0m         \u001b[0;31m# ignore the tracking, just draw and close all figures\u001b[0m\u001b[0;34m\u001b[0m\u001b[0;34m\u001b[0m\u001b[0;34m\u001b[0m\u001b[0m\n\u001b[1;32m    116\u001b[0m         \u001b[0;32mtry\u001b[0m\u001b[0;34m:\u001b[0m\u001b[0;34m\u001b[0m\u001b[0;34m\u001b[0m\u001b[0m\n\u001b[0;32m--> 117\u001b[0;31m             \u001b[0;32mreturn\u001b[0m \u001b[0mshow\u001b[0m\u001b[0;34m(\u001b[0m\u001b[0;32mTrue\u001b[0m\u001b[0;34m)\u001b[0m\u001b[0;34m\u001b[0m\u001b[0;34m\u001b[0m\u001b[0m\n\u001b[0m\u001b[1;32m    118\u001b[0m         \u001b[0;32mexcept\u001b[0m \u001b[0mException\u001b[0m \u001b[0;32mas\u001b[0m \u001b[0me\u001b[0m\u001b[0;34m:\u001b[0m\u001b[0;34m\u001b[0m\u001b[0;34m\u001b[0m\u001b[0m\n\u001b[1;32m    119\u001b[0m             \u001b[0;31m# safely show traceback if in IPython, else raise\u001b[0m\u001b[0;34m\u001b[0m\u001b[0;34m\u001b[0m\u001b[0;34m\u001b[0m\u001b[0m\n",
      "\u001b[0;32m/usr/local/lib/python3.7/site-packages/ipykernel/pylab/backend_inline.py\u001b[0m in \u001b[0;36mshow\u001b[0;34m(close, block)\u001b[0m\n\u001b[1;32m     37\u001b[0m             display(\n\u001b[1;32m     38\u001b[0m                 \u001b[0mfigure_manager\u001b[0m\u001b[0;34m.\u001b[0m\u001b[0mcanvas\u001b[0m\u001b[0;34m.\u001b[0m\u001b[0mfigure\u001b[0m\u001b[0;34m,\u001b[0m\u001b[0;34m\u001b[0m\u001b[0;34m\u001b[0m\u001b[0m\n\u001b[0;32m---> 39\u001b[0;31m                 \u001b[0mmetadata\u001b[0m\u001b[0;34m=\u001b[0m\u001b[0m_fetch_figure_metadata\u001b[0m\u001b[0;34m(\u001b[0m\u001b[0mfigure_manager\u001b[0m\u001b[0;34m.\u001b[0m\u001b[0mcanvas\u001b[0m\u001b[0;34m.\u001b[0m\u001b[0mfigure\u001b[0m\u001b[0;34m)\u001b[0m\u001b[0;34m\u001b[0m\u001b[0;34m\u001b[0m\u001b[0m\n\u001b[0m\u001b[1;32m     40\u001b[0m             )\n\u001b[1;32m     41\u001b[0m     \u001b[0;32mfinally\u001b[0m\u001b[0;34m:\u001b[0m\u001b[0;34m\u001b[0m\u001b[0;34m\u001b[0m\u001b[0m\n",
      "\u001b[0;32m/usr/local/lib/python3.7/site-packages/IPython/core/display.py\u001b[0m in \u001b[0;36mdisplay\u001b[0;34m(include, exclude, metadata, transient, display_id, *objs, **kwargs)\u001b[0m\n\u001b[1;32m    302\u001b[0m             \u001b[0mpublish_display_data\u001b[0m\u001b[0;34m(\u001b[0m\u001b[0mdata\u001b[0m\u001b[0;34m=\u001b[0m\u001b[0mobj\u001b[0m\u001b[0;34m,\u001b[0m \u001b[0mmetadata\u001b[0m\u001b[0;34m=\u001b[0m\u001b[0mmetadata\u001b[0m\u001b[0;34m,\u001b[0m \u001b[0;34m**\u001b[0m\u001b[0mkwargs\u001b[0m\u001b[0;34m)\u001b[0m\u001b[0;34m\u001b[0m\u001b[0;34m\u001b[0m\u001b[0m\n\u001b[1;32m    303\u001b[0m         \u001b[0;32melse\u001b[0m\u001b[0;34m:\u001b[0m\u001b[0;34m\u001b[0m\u001b[0;34m\u001b[0m\u001b[0m\n\u001b[0;32m--> 304\u001b[0;31m             \u001b[0mformat_dict\u001b[0m\u001b[0;34m,\u001b[0m \u001b[0mmd_dict\u001b[0m \u001b[0;34m=\u001b[0m \u001b[0mformat\u001b[0m\u001b[0;34m(\u001b[0m\u001b[0mobj\u001b[0m\u001b[0;34m,\u001b[0m \u001b[0minclude\u001b[0m\u001b[0;34m=\u001b[0m\u001b[0minclude\u001b[0m\u001b[0;34m,\u001b[0m \u001b[0mexclude\u001b[0m\u001b[0;34m=\u001b[0m\u001b[0mexclude\u001b[0m\u001b[0;34m)\u001b[0m\u001b[0;34m\u001b[0m\u001b[0;34m\u001b[0m\u001b[0m\n\u001b[0m\u001b[1;32m    305\u001b[0m             \u001b[0;32mif\u001b[0m \u001b[0;32mnot\u001b[0m \u001b[0mformat_dict\u001b[0m\u001b[0;34m:\u001b[0m\u001b[0;34m\u001b[0m\u001b[0;34m\u001b[0m\u001b[0m\n\u001b[1;32m    306\u001b[0m                 \u001b[0;31m# nothing to display (e.g. _ipython_display_ took over)\u001b[0m\u001b[0;34m\u001b[0m\u001b[0;34m\u001b[0m\u001b[0;34m\u001b[0m\u001b[0m\n",
      "\u001b[0;32m/usr/local/lib/python3.7/site-packages/IPython/core/formatters.py\u001b[0m in \u001b[0;36mformat\u001b[0;34m(self, obj, include, exclude)\u001b[0m\n\u001b[1;32m    178\u001b[0m             \u001b[0mmd\u001b[0m \u001b[0;34m=\u001b[0m \u001b[0;32mNone\u001b[0m\u001b[0;34m\u001b[0m\u001b[0;34m\u001b[0m\u001b[0m\n\u001b[1;32m    179\u001b[0m             \u001b[0;32mtry\u001b[0m\u001b[0;34m:\u001b[0m\u001b[0;34m\u001b[0m\u001b[0;34m\u001b[0m\u001b[0m\n\u001b[0;32m--> 180\u001b[0;31m                 \u001b[0mdata\u001b[0m \u001b[0;34m=\u001b[0m \u001b[0mformatter\u001b[0m\u001b[0;34m(\u001b[0m\u001b[0mobj\u001b[0m\u001b[0;34m)\u001b[0m\u001b[0;34m\u001b[0m\u001b[0;34m\u001b[0m\u001b[0m\n\u001b[0m\u001b[1;32m    181\u001b[0m             \u001b[0;32mexcept\u001b[0m\u001b[0;34m:\u001b[0m\u001b[0;34m\u001b[0m\u001b[0;34m\u001b[0m\u001b[0m\n\u001b[1;32m    182\u001b[0m                 \u001b[0;31m# FIXME: log the exception\u001b[0m\u001b[0;34m\u001b[0m\u001b[0;34m\u001b[0m\u001b[0;34m\u001b[0m\u001b[0m\n",
      "\u001b[0;32m</usr/local/lib/python3.7/site-packages/decorator.py:decorator-gen-9>\u001b[0m in \u001b[0;36m__call__\u001b[0;34m(self, obj)\u001b[0m\n",
      "\u001b[0;32m/usr/local/lib/python3.7/site-packages/IPython/core/formatters.py\u001b[0m in \u001b[0;36mcatch_format_error\u001b[0;34m(method, self, *args, **kwargs)\u001b[0m\n\u001b[1;32m    222\u001b[0m     \u001b[0;34m\"\"\"show traceback on failed format call\"\"\"\u001b[0m\u001b[0;34m\u001b[0m\u001b[0;34m\u001b[0m\u001b[0m\n\u001b[1;32m    223\u001b[0m     \u001b[0;32mtry\u001b[0m\u001b[0;34m:\u001b[0m\u001b[0;34m\u001b[0m\u001b[0;34m\u001b[0m\u001b[0m\n\u001b[0;32m--> 224\u001b[0;31m         \u001b[0mr\u001b[0m \u001b[0;34m=\u001b[0m \u001b[0mmethod\u001b[0m\u001b[0;34m(\u001b[0m\u001b[0mself\u001b[0m\u001b[0;34m,\u001b[0m \u001b[0;34m*\u001b[0m\u001b[0margs\u001b[0m\u001b[0;34m,\u001b[0m \u001b[0;34m**\u001b[0m\u001b[0mkwargs\u001b[0m\u001b[0;34m)\u001b[0m\u001b[0;34m\u001b[0m\u001b[0;34m\u001b[0m\u001b[0m\n\u001b[0m\u001b[1;32m    225\u001b[0m     \u001b[0;32mexcept\u001b[0m \u001b[0mNotImplementedError\u001b[0m\u001b[0;34m:\u001b[0m\u001b[0;34m\u001b[0m\u001b[0;34m\u001b[0m\u001b[0m\n\u001b[1;32m    226\u001b[0m         \u001b[0;31m# don't warn on NotImplementedErrors\u001b[0m\u001b[0;34m\u001b[0m\u001b[0;34m\u001b[0m\u001b[0;34m\u001b[0m\u001b[0m\n",
      "\u001b[0;32m/usr/local/lib/python3.7/site-packages/IPython/core/formatters.py\u001b[0m in \u001b[0;36m__call__\u001b[0;34m(self, obj)\u001b[0m\n\u001b[1;32m    339\u001b[0m                 \u001b[0;32mpass\u001b[0m\u001b[0;34m\u001b[0m\u001b[0;34m\u001b[0m\u001b[0m\n\u001b[1;32m    340\u001b[0m             \u001b[0;32melse\u001b[0m\u001b[0;34m:\u001b[0m\u001b[0;34m\u001b[0m\u001b[0;34m\u001b[0m\u001b[0m\n\u001b[0;32m--> 341\u001b[0;31m                 \u001b[0;32mreturn\u001b[0m \u001b[0mprinter\u001b[0m\u001b[0;34m(\u001b[0m\u001b[0mobj\u001b[0m\u001b[0;34m)\u001b[0m\u001b[0;34m\u001b[0m\u001b[0;34m\u001b[0m\u001b[0m\n\u001b[0m\u001b[1;32m    342\u001b[0m             \u001b[0;31m# Finally look for special method names\u001b[0m\u001b[0;34m\u001b[0m\u001b[0;34m\u001b[0m\u001b[0;34m\u001b[0m\u001b[0m\n\u001b[1;32m    343\u001b[0m             \u001b[0mmethod\u001b[0m \u001b[0;34m=\u001b[0m \u001b[0mget_real_method\u001b[0m\u001b[0;34m(\u001b[0m\u001b[0mobj\u001b[0m\u001b[0;34m,\u001b[0m \u001b[0mself\u001b[0m\u001b[0;34m.\u001b[0m\u001b[0mprint_method\u001b[0m\u001b[0;34m)\u001b[0m\u001b[0;34m\u001b[0m\u001b[0;34m\u001b[0m\u001b[0m\n",
      "\u001b[0;32m/usr/local/lib/python3.7/site-packages/IPython/core/pylabtools.py\u001b[0m in \u001b[0;36m<lambda>\u001b[0;34m(fig)\u001b[0m\n\u001b[1;32m    242\u001b[0m \u001b[0;34m\u001b[0m\u001b[0m\n\u001b[1;32m    243\u001b[0m     \u001b[0;32mif\u001b[0m \u001b[0;34m'png'\u001b[0m \u001b[0;32min\u001b[0m \u001b[0mformats\u001b[0m\u001b[0;34m:\u001b[0m\u001b[0;34m\u001b[0m\u001b[0;34m\u001b[0m\u001b[0m\n\u001b[0;32m--> 244\u001b[0;31m         \u001b[0mpng_formatter\u001b[0m\u001b[0;34m.\u001b[0m\u001b[0mfor_type\u001b[0m\u001b[0;34m(\u001b[0m\u001b[0mFigure\u001b[0m\u001b[0;34m,\u001b[0m \u001b[0;32mlambda\u001b[0m \u001b[0mfig\u001b[0m\u001b[0;34m:\u001b[0m \u001b[0mprint_figure\u001b[0m\u001b[0;34m(\u001b[0m\u001b[0mfig\u001b[0m\u001b[0;34m,\u001b[0m \u001b[0;34m'png'\u001b[0m\u001b[0;34m,\u001b[0m \u001b[0;34m**\u001b[0m\u001b[0mkwargs\u001b[0m\u001b[0;34m)\u001b[0m\u001b[0;34m)\u001b[0m\u001b[0;34m\u001b[0m\u001b[0;34m\u001b[0m\u001b[0m\n\u001b[0m\u001b[1;32m    245\u001b[0m     \u001b[0;32mif\u001b[0m \u001b[0;34m'retina'\u001b[0m \u001b[0;32min\u001b[0m \u001b[0mformats\u001b[0m \u001b[0;32mor\u001b[0m \u001b[0;34m'png2x'\u001b[0m \u001b[0;32min\u001b[0m \u001b[0mformats\u001b[0m\u001b[0;34m:\u001b[0m\u001b[0;34m\u001b[0m\u001b[0;34m\u001b[0m\u001b[0m\n\u001b[1;32m    246\u001b[0m         \u001b[0mpng_formatter\u001b[0m\u001b[0;34m.\u001b[0m\u001b[0mfor_type\u001b[0m\u001b[0;34m(\u001b[0m\u001b[0mFigure\u001b[0m\u001b[0;34m,\u001b[0m \u001b[0;32mlambda\u001b[0m \u001b[0mfig\u001b[0m\u001b[0;34m:\u001b[0m \u001b[0mretina_figure\u001b[0m\u001b[0;34m(\u001b[0m\u001b[0mfig\u001b[0m\u001b[0;34m,\u001b[0m \u001b[0;34m**\u001b[0m\u001b[0mkwargs\u001b[0m\u001b[0;34m)\u001b[0m\u001b[0;34m)\u001b[0m\u001b[0;34m\u001b[0m\u001b[0;34m\u001b[0m\u001b[0m\n",
      "\u001b[0;32m/usr/local/lib/python3.7/site-packages/IPython/core/pylabtools.py\u001b[0m in \u001b[0;36mprint_figure\u001b[0;34m(fig, fmt, bbox_inches, **kwargs)\u001b[0m\n\u001b[1;32m    126\u001b[0m \u001b[0;34m\u001b[0m\u001b[0m\n\u001b[1;32m    127\u001b[0m     \u001b[0mbytes_io\u001b[0m \u001b[0;34m=\u001b[0m \u001b[0mBytesIO\u001b[0m\u001b[0;34m(\u001b[0m\u001b[0;34m)\u001b[0m\u001b[0;34m\u001b[0m\u001b[0;34m\u001b[0m\u001b[0m\n\u001b[0;32m--> 128\u001b[0;31m     \u001b[0mfig\u001b[0m\u001b[0;34m.\u001b[0m\u001b[0mcanvas\u001b[0m\u001b[0;34m.\u001b[0m\u001b[0mprint_figure\u001b[0m\u001b[0;34m(\u001b[0m\u001b[0mbytes_io\u001b[0m\u001b[0;34m,\u001b[0m \u001b[0;34m**\u001b[0m\u001b[0mkw\u001b[0m\u001b[0;34m)\u001b[0m\u001b[0;34m\u001b[0m\u001b[0;34m\u001b[0m\u001b[0m\n\u001b[0m\u001b[1;32m    129\u001b[0m     \u001b[0mdata\u001b[0m \u001b[0;34m=\u001b[0m \u001b[0mbytes_io\u001b[0m\u001b[0;34m.\u001b[0m\u001b[0mgetvalue\u001b[0m\u001b[0;34m(\u001b[0m\u001b[0;34m)\u001b[0m\u001b[0;34m\u001b[0m\u001b[0;34m\u001b[0m\u001b[0m\n\u001b[1;32m    130\u001b[0m     \u001b[0;32mif\u001b[0m \u001b[0mfmt\u001b[0m \u001b[0;34m==\u001b[0m \u001b[0;34m'svg'\u001b[0m\u001b[0;34m:\u001b[0m\u001b[0;34m\u001b[0m\u001b[0;34m\u001b[0m\u001b[0m\n",
      "\u001b[0;32m/usr/local/lib/python3.7/site-packages/matplotlib/backend_bases.py\u001b[0m in \u001b[0;36mprint_figure\u001b[0;34m(self, filename, dpi, facecolor, edgecolor, orientation, format, bbox_inches, **kwargs)\u001b[0m\n\u001b[1;32m   2054\u001b[0m                         \u001b[0morientation\u001b[0m\u001b[0;34m=\u001b[0m\u001b[0morientation\u001b[0m\u001b[0;34m,\u001b[0m\u001b[0;34m\u001b[0m\u001b[0;34m\u001b[0m\u001b[0m\n\u001b[1;32m   2055\u001b[0m                         \u001b[0mdryrun\u001b[0m\u001b[0;34m=\u001b[0m\u001b[0;32mTrue\u001b[0m\u001b[0;34m,\u001b[0m\u001b[0;34m\u001b[0m\u001b[0;34m\u001b[0m\u001b[0m\n\u001b[0;32m-> 2056\u001b[0;31m                         **kwargs)\n\u001b[0m\u001b[1;32m   2057\u001b[0m                     \u001b[0mrenderer\u001b[0m \u001b[0;34m=\u001b[0m \u001b[0mself\u001b[0m\u001b[0;34m.\u001b[0m\u001b[0mfigure\u001b[0m\u001b[0;34m.\u001b[0m\u001b[0m_cachedRenderer\u001b[0m\u001b[0;34m\u001b[0m\u001b[0;34m\u001b[0m\u001b[0m\n\u001b[1;32m   2058\u001b[0m                     \u001b[0mbbox_artists\u001b[0m \u001b[0;34m=\u001b[0m \u001b[0mkwargs\u001b[0m\u001b[0;34m.\u001b[0m\u001b[0mpop\u001b[0m\u001b[0;34m(\u001b[0m\u001b[0;34m\"bbox_extra_artists\"\u001b[0m\u001b[0;34m,\u001b[0m \u001b[0;32mNone\u001b[0m\u001b[0;34m)\u001b[0m\u001b[0;34m\u001b[0m\u001b[0;34m\u001b[0m\u001b[0m\n",
      "\u001b[0;32m/usr/local/lib/python3.7/site-packages/matplotlib/backends/backend_agg.py\u001b[0m in \u001b[0;36mprint_png\u001b[0;34m(self, filename_or_obj, metadata, pil_kwargs, *args, **kwargs)\u001b[0m\n\u001b[1;32m    525\u001b[0m \u001b[0;34m\u001b[0m\u001b[0m\n\u001b[1;32m    526\u001b[0m         \u001b[0;32melse\u001b[0m\u001b[0;34m:\u001b[0m\u001b[0;34m\u001b[0m\u001b[0;34m\u001b[0m\u001b[0m\n\u001b[0;32m--> 527\u001b[0;31m             \u001b[0mFigureCanvasAgg\u001b[0m\u001b[0;34m.\u001b[0m\u001b[0mdraw\u001b[0m\u001b[0;34m(\u001b[0m\u001b[0mself\u001b[0m\u001b[0;34m)\u001b[0m\u001b[0;34m\u001b[0m\u001b[0;34m\u001b[0m\u001b[0m\n\u001b[0m\u001b[1;32m    528\u001b[0m             \u001b[0mrenderer\u001b[0m \u001b[0;34m=\u001b[0m \u001b[0mself\u001b[0m\u001b[0;34m.\u001b[0m\u001b[0mget_renderer\u001b[0m\u001b[0;34m(\u001b[0m\u001b[0;34m)\u001b[0m\u001b[0;34m\u001b[0m\u001b[0;34m\u001b[0m\u001b[0m\n\u001b[1;32m    529\u001b[0m             \u001b[0;32mwith\u001b[0m \u001b[0mcbook\u001b[0m\u001b[0;34m.\u001b[0m\u001b[0m_setattr_cm\u001b[0m\u001b[0;34m(\u001b[0m\u001b[0mrenderer\u001b[0m\u001b[0;34m,\u001b[0m \u001b[0mdpi\u001b[0m\u001b[0;34m=\u001b[0m\u001b[0mself\u001b[0m\u001b[0;34m.\u001b[0m\u001b[0mfigure\u001b[0m\u001b[0;34m.\u001b[0m\u001b[0mdpi\u001b[0m\u001b[0;34m)\u001b[0m\u001b[0;34m,\u001b[0m\u001b[0;31m \u001b[0m\u001b[0;31m\\\u001b[0m\u001b[0;34m\u001b[0m\u001b[0;34m\u001b[0m\u001b[0m\n",
      "\u001b[0;32m/usr/local/lib/python3.7/site-packages/matplotlib/backends/backend_agg.py\u001b[0m in \u001b[0;36mdraw\u001b[0;34m(self)\u001b[0m\n\u001b[1;32m    386\u001b[0m         \u001b[0mself\u001b[0m\u001b[0;34m.\u001b[0m\u001b[0mrenderer\u001b[0m \u001b[0;34m=\u001b[0m \u001b[0mself\u001b[0m\u001b[0;34m.\u001b[0m\u001b[0mget_renderer\u001b[0m\u001b[0;34m(\u001b[0m\u001b[0mcleared\u001b[0m\u001b[0;34m=\u001b[0m\u001b[0;32mTrue\u001b[0m\u001b[0;34m)\u001b[0m\u001b[0;34m\u001b[0m\u001b[0;34m\u001b[0m\u001b[0m\n\u001b[1;32m    387\u001b[0m         \u001b[0;32mwith\u001b[0m \u001b[0mRendererAgg\u001b[0m\u001b[0;34m.\u001b[0m\u001b[0mlock\u001b[0m\u001b[0;34m:\u001b[0m\u001b[0;34m\u001b[0m\u001b[0;34m\u001b[0m\u001b[0m\n\u001b[0;32m--> 388\u001b[0;31m             \u001b[0mself\u001b[0m\u001b[0;34m.\u001b[0m\u001b[0mfigure\u001b[0m\u001b[0;34m.\u001b[0m\u001b[0mdraw\u001b[0m\u001b[0;34m(\u001b[0m\u001b[0mself\u001b[0m\u001b[0;34m.\u001b[0m\u001b[0mrenderer\u001b[0m\u001b[0;34m)\u001b[0m\u001b[0;34m\u001b[0m\u001b[0;34m\u001b[0m\u001b[0m\n\u001b[0m\u001b[1;32m    389\u001b[0m             \u001b[0;31m# A GUI class may be need to update a window using this draw, so\u001b[0m\u001b[0;34m\u001b[0m\u001b[0;34m\u001b[0m\u001b[0;34m\u001b[0m\u001b[0m\n\u001b[1;32m    390\u001b[0m             \u001b[0;31m# don't forget to call the superclass.\u001b[0m\u001b[0;34m\u001b[0m\u001b[0;34m\u001b[0m\u001b[0;34m\u001b[0m\u001b[0m\n",
      "\u001b[0;32m/usr/local/lib/python3.7/site-packages/matplotlib/artist.py\u001b[0m in \u001b[0;36mdraw_wrapper\u001b[0;34m(artist, renderer, *args, **kwargs)\u001b[0m\n\u001b[1;32m     36\u001b[0m                 \u001b[0mrenderer\u001b[0m\u001b[0;34m.\u001b[0m\u001b[0mstart_filter\u001b[0m\u001b[0;34m(\u001b[0m\u001b[0;34m)\u001b[0m\u001b[0;34m\u001b[0m\u001b[0;34m\u001b[0m\u001b[0m\n\u001b[1;32m     37\u001b[0m \u001b[0;34m\u001b[0m\u001b[0m\n\u001b[0;32m---> 38\u001b[0;31m             \u001b[0;32mreturn\u001b[0m \u001b[0mdraw\u001b[0m\u001b[0;34m(\u001b[0m\u001b[0martist\u001b[0m\u001b[0;34m,\u001b[0m \u001b[0mrenderer\u001b[0m\u001b[0;34m,\u001b[0m \u001b[0;34m*\u001b[0m\u001b[0margs\u001b[0m\u001b[0;34m,\u001b[0m \u001b[0;34m**\u001b[0m\u001b[0mkwargs\u001b[0m\u001b[0;34m)\u001b[0m\u001b[0;34m\u001b[0m\u001b[0;34m\u001b[0m\u001b[0m\n\u001b[0m\u001b[1;32m     39\u001b[0m         \u001b[0;32mfinally\u001b[0m\u001b[0;34m:\u001b[0m\u001b[0;34m\u001b[0m\u001b[0;34m\u001b[0m\u001b[0m\n\u001b[1;32m     40\u001b[0m             \u001b[0;32mif\u001b[0m \u001b[0martist\u001b[0m\u001b[0;34m.\u001b[0m\u001b[0mget_agg_filter\u001b[0m\u001b[0;34m(\u001b[0m\u001b[0;34m)\u001b[0m \u001b[0;32mis\u001b[0m \u001b[0;32mnot\u001b[0m \u001b[0;32mNone\u001b[0m\u001b[0;34m:\u001b[0m\u001b[0;34m\u001b[0m\u001b[0;34m\u001b[0m\u001b[0m\n",
      "\u001b[0;32m/usr/local/lib/python3.7/site-packages/matplotlib/figure.py\u001b[0m in \u001b[0;36mdraw\u001b[0;34m(self, renderer)\u001b[0m\n\u001b[1;32m   1707\u001b[0m             \u001b[0mself\u001b[0m\u001b[0;34m.\u001b[0m\u001b[0mpatch\u001b[0m\u001b[0;34m.\u001b[0m\u001b[0mdraw\u001b[0m\u001b[0;34m(\u001b[0m\u001b[0mrenderer\u001b[0m\u001b[0;34m)\u001b[0m\u001b[0;34m\u001b[0m\u001b[0;34m\u001b[0m\u001b[0m\n\u001b[1;32m   1708\u001b[0m             mimage._draw_list_compositing_images(\n\u001b[0;32m-> 1709\u001b[0;31m                 renderer, self, artists, self.suppressComposite)\n\u001b[0m\u001b[1;32m   1710\u001b[0m \u001b[0;34m\u001b[0m\u001b[0m\n\u001b[1;32m   1711\u001b[0m             \u001b[0mrenderer\u001b[0m\u001b[0;34m.\u001b[0m\u001b[0mclose_group\u001b[0m\u001b[0;34m(\u001b[0m\u001b[0;34m'figure'\u001b[0m\u001b[0;34m)\u001b[0m\u001b[0;34m\u001b[0m\u001b[0;34m\u001b[0m\u001b[0m\n",
      "\u001b[0;32m/usr/local/lib/python3.7/site-packages/matplotlib/image.py\u001b[0m in \u001b[0;36m_draw_list_compositing_images\u001b[0;34m(renderer, parent, artists, suppress_composite)\u001b[0m\n\u001b[1;32m    133\u001b[0m     \u001b[0;32mif\u001b[0m \u001b[0mnot_composite\u001b[0m \u001b[0;32mor\u001b[0m \u001b[0;32mnot\u001b[0m \u001b[0mhas_images\u001b[0m\u001b[0;34m:\u001b[0m\u001b[0;34m\u001b[0m\u001b[0;34m\u001b[0m\u001b[0m\n\u001b[1;32m    134\u001b[0m         \u001b[0;32mfor\u001b[0m \u001b[0ma\u001b[0m \u001b[0;32min\u001b[0m \u001b[0martists\u001b[0m\u001b[0;34m:\u001b[0m\u001b[0;34m\u001b[0m\u001b[0;34m\u001b[0m\u001b[0m\n\u001b[0;32m--> 135\u001b[0;31m             \u001b[0ma\u001b[0m\u001b[0;34m.\u001b[0m\u001b[0mdraw\u001b[0m\u001b[0;34m(\u001b[0m\u001b[0mrenderer\u001b[0m\u001b[0;34m)\u001b[0m\u001b[0;34m\u001b[0m\u001b[0;34m\u001b[0m\u001b[0m\n\u001b[0m\u001b[1;32m    136\u001b[0m     \u001b[0;32melse\u001b[0m\u001b[0;34m:\u001b[0m\u001b[0;34m\u001b[0m\u001b[0;34m\u001b[0m\u001b[0m\n\u001b[1;32m    137\u001b[0m         \u001b[0;31m# Composite any adjacent images together\u001b[0m\u001b[0;34m\u001b[0m\u001b[0;34m\u001b[0m\u001b[0;34m\u001b[0m\u001b[0m\n",
      "\u001b[0;32m/usr/local/lib/python3.7/site-packages/matplotlib/artist.py\u001b[0m in \u001b[0;36mdraw_wrapper\u001b[0;34m(artist, renderer, *args, **kwargs)\u001b[0m\n\u001b[1;32m     36\u001b[0m                 \u001b[0mrenderer\u001b[0m\u001b[0;34m.\u001b[0m\u001b[0mstart_filter\u001b[0m\u001b[0;34m(\u001b[0m\u001b[0;34m)\u001b[0m\u001b[0;34m\u001b[0m\u001b[0;34m\u001b[0m\u001b[0m\n\u001b[1;32m     37\u001b[0m \u001b[0;34m\u001b[0m\u001b[0m\n\u001b[0;32m---> 38\u001b[0;31m             \u001b[0;32mreturn\u001b[0m \u001b[0mdraw\u001b[0m\u001b[0;34m(\u001b[0m\u001b[0martist\u001b[0m\u001b[0;34m,\u001b[0m \u001b[0mrenderer\u001b[0m\u001b[0;34m,\u001b[0m \u001b[0;34m*\u001b[0m\u001b[0margs\u001b[0m\u001b[0;34m,\u001b[0m \u001b[0;34m**\u001b[0m\u001b[0mkwargs\u001b[0m\u001b[0;34m)\u001b[0m\u001b[0;34m\u001b[0m\u001b[0;34m\u001b[0m\u001b[0m\n\u001b[0m\u001b[1;32m     39\u001b[0m         \u001b[0;32mfinally\u001b[0m\u001b[0;34m:\u001b[0m\u001b[0;34m\u001b[0m\u001b[0;34m\u001b[0m\u001b[0m\n\u001b[1;32m     40\u001b[0m             \u001b[0;32mif\u001b[0m \u001b[0martist\u001b[0m\u001b[0;34m.\u001b[0m\u001b[0mget_agg_filter\u001b[0m\u001b[0;34m(\u001b[0m\u001b[0;34m)\u001b[0m \u001b[0;32mis\u001b[0m \u001b[0;32mnot\u001b[0m \u001b[0;32mNone\u001b[0m\u001b[0;34m:\u001b[0m\u001b[0;34m\u001b[0m\u001b[0;34m\u001b[0m\u001b[0m\n",
      "\u001b[0;32m/usr/local/lib/python3.7/site-packages/matplotlib/axes/_base.py\u001b[0m in \u001b[0;36mdraw\u001b[0;34m(self, renderer, inframe)\u001b[0m\n\u001b[1;32m   2645\u001b[0m             \u001b[0mrenderer\u001b[0m\u001b[0;34m.\u001b[0m\u001b[0mstop_rasterizing\u001b[0m\u001b[0;34m(\u001b[0m\u001b[0;34m)\u001b[0m\u001b[0;34m\u001b[0m\u001b[0;34m\u001b[0m\u001b[0m\n\u001b[1;32m   2646\u001b[0m \u001b[0;34m\u001b[0m\u001b[0m\n\u001b[0;32m-> 2647\u001b[0;31m         \u001b[0mmimage\u001b[0m\u001b[0;34m.\u001b[0m\u001b[0m_draw_list_compositing_images\u001b[0m\u001b[0;34m(\u001b[0m\u001b[0mrenderer\u001b[0m\u001b[0;34m,\u001b[0m \u001b[0mself\u001b[0m\u001b[0;34m,\u001b[0m \u001b[0martists\u001b[0m\u001b[0;34m)\u001b[0m\u001b[0;34m\u001b[0m\u001b[0;34m\u001b[0m\u001b[0m\n\u001b[0m\u001b[1;32m   2648\u001b[0m \u001b[0;34m\u001b[0m\u001b[0m\n\u001b[1;32m   2649\u001b[0m         \u001b[0mrenderer\u001b[0m\u001b[0;34m.\u001b[0m\u001b[0mclose_group\u001b[0m\u001b[0;34m(\u001b[0m\u001b[0;34m'axes'\u001b[0m\u001b[0;34m)\u001b[0m\u001b[0;34m\u001b[0m\u001b[0;34m\u001b[0m\u001b[0m\n",
      "\u001b[0;32m/usr/local/lib/python3.7/site-packages/matplotlib/image.py\u001b[0m in \u001b[0;36m_draw_list_compositing_images\u001b[0;34m(renderer, parent, artists, suppress_composite)\u001b[0m\n\u001b[1;32m    133\u001b[0m     \u001b[0;32mif\u001b[0m \u001b[0mnot_composite\u001b[0m \u001b[0;32mor\u001b[0m \u001b[0;32mnot\u001b[0m \u001b[0mhas_images\u001b[0m\u001b[0;34m:\u001b[0m\u001b[0;34m\u001b[0m\u001b[0;34m\u001b[0m\u001b[0m\n\u001b[1;32m    134\u001b[0m         \u001b[0;32mfor\u001b[0m \u001b[0ma\u001b[0m \u001b[0;32min\u001b[0m \u001b[0martists\u001b[0m\u001b[0;34m:\u001b[0m\u001b[0;34m\u001b[0m\u001b[0;34m\u001b[0m\u001b[0m\n\u001b[0;32m--> 135\u001b[0;31m             \u001b[0ma\u001b[0m\u001b[0;34m.\u001b[0m\u001b[0mdraw\u001b[0m\u001b[0;34m(\u001b[0m\u001b[0mrenderer\u001b[0m\u001b[0;34m)\u001b[0m\u001b[0;34m\u001b[0m\u001b[0;34m\u001b[0m\u001b[0m\n\u001b[0m\u001b[1;32m    136\u001b[0m     \u001b[0;32melse\u001b[0m\u001b[0;34m:\u001b[0m\u001b[0;34m\u001b[0m\u001b[0;34m\u001b[0m\u001b[0m\n\u001b[1;32m    137\u001b[0m         \u001b[0;31m# Composite any adjacent images together\u001b[0m\u001b[0;34m\u001b[0m\u001b[0;34m\u001b[0m\u001b[0;34m\u001b[0m\u001b[0m\n",
      "\u001b[0;32m/usr/local/lib/python3.7/site-packages/matplotlib/artist.py\u001b[0m in \u001b[0;36mdraw_wrapper\u001b[0;34m(artist, renderer, *args, **kwargs)\u001b[0m\n\u001b[1;32m     36\u001b[0m                 \u001b[0mrenderer\u001b[0m\u001b[0;34m.\u001b[0m\u001b[0mstart_filter\u001b[0m\u001b[0;34m(\u001b[0m\u001b[0;34m)\u001b[0m\u001b[0;34m\u001b[0m\u001b[0;34m\u001b[0m\u001b[0m\n\u001b[1;32m     37\u001b[0m \u001b[0;34m\u001b[0m\u001b[0m\n\u001b[0;32m---> 38\u001b[0;31m             \u001b[0;32mreturn\u001b[0m \u001b[0mdraw\u001b[0m\u001b[0;34m(\u001b[0m\u001b[0martist\u001b[0m\u001b[0;34m,\u001b[0m \u001b[0mrenderer\u001b[0m\u001b[0;34m,\u001b[0m \u001b[0;34m*\u001b[0m\u001b[0margs\u001b[0m\u001b[0;34m,\u001b[0m \u001b[0;34m**\u001b[0m\u001b[0mkwargs\u001b[0m\u001b[0;34m)\u001b[0m\u001b[0;34m\u001b[0m\u001b[0;34m\u001b[0m\u001b[0m\n\u001b[0m\u001b[1;32m     39\u001b[0m         \u001b[0;32mfinally\u001b[0m\u001b[0;34m:\u001b[0m\u001b[0;34m\u001b[0m\u001b[0;34m\u001b[0m\u001b[0m\n\u001b[1;32m     40\u001b[0m             \u001b[0;32mif\u001b[0m \u001b[0martist\u001b[0m\u001b[0;34m.\u001b[0m\u001b[0mget_agg_filter\u001b[0m\u001b[0;34m(\u001b[0m\u001b[0;34m)\u001b[0m \u001b[0;32mis\u001b[0m \u001b[0;32mnot\u001b[0m \u001b[0;32mNone\u001b[0m\u001b[0;34m:\u001b[0m\u001b[0;34m\u001b[0m\u001b[0;34m\u001b[0m\u001b[0m\n",
      "\u001b[0;32m/usr/local/lib/python3.7/site-packages/matplotlib/axis.py\u001b[0m in \u001b[0;36mdraw\u001b[0;34m(self, renderer, *args, **kwargs)\u001b[0m\n\u001b[1;32m   1203\u001b[0m         \u001b[0mticks_to_draw\u001b[0m \u001b[0;34m=\u001b[0m \u001b[0mself\u001b[0m\u001b[0;34m.\u001b[0m\u001b[0m_update_ticks\u001b[0m\u001b[0;34m(\u001b[0m\u001b[0;34m)\u001b[0m\u001b[0;34m\u001b[0m\u001b[0;34m\u001b[0m\u001b[0m\n\u001b[1;32m   1204\u001b[0m         ticklabelBoxes, ticklabelBoxes2 = self._get_tick_bboxes(ticks_to_draw,\n\u001b[0;32m-> 1205\u001b[0;31m                                                                 renderer)\n\u001b[0m\u001b[1;32m   1206\u001b[0m \u001b[0;34m\u001b[0m\u001b[0m\n\u001b[1;32m   1207\u001b[0m         \u001b[0;32mfor\u001b[0m \u001b[0mtick\u001b[0m \u001b[0;32min\u001b[0m \u001b[0mticks_to_draw\u001b[0m\u001b[0;34m:\u001b[0m\u001b[0;34m\u001b[0m\u001b[0;34m\u001b[0m\u001b[0m\n",
      "\u001b[0;32m/usr/local/lib/python3.7/site-packages/matplotlib/axis.py\u001b[0m in \u001b[0;36m_get_tick_bboxes\u001b[0;34m(self, ticks, renderer)\u001b[0m\n\u001b[1;32m   1148\u001b[0m         \u001b[0;34m\"\"\"Return lists of bboxes for ticks' label1's and label2's.\"\"\"\u001b[0m\u001b[0;34m\u001b[0m\u001b[0;34m\u001b[0m\u001b[0m\n\u001b[1;32m   1149\u001b[0m         return ([tick.label1.get_window_extent(renderer)\n\u001b[0;32m-> 1150\u001b[0;31m                  for tick in ticks if tick.label1.get_visible()],\n\u001b[0m\u001b[1;32m   1151\u001b[0m                 [tick.label2.get_window_extent(renderer)\n\u001b[1;32m   1152\u001b[0m                  for tick in ticks if tick.label2.get_visible()])\n",
      "\u001b[0;32m/usr/local/lib/python3.7/site-packages/matplotlib/axis.py\u001b[0m in \u001b[0;36m<listcomp>\u001b[0;34m(.0)\u001b[0m\n\u001b[1;32m   1148\u001b[0m         \u001b[0;34m\"\"\"Return lists of bboxes for ticks' label1's and label2's.\"\"\"\u001b[0m\u001b[0;34m\u001b[0m\u001b[0;34m\u001b[0m\u001b[0m\n\u001b[1;32m   1149\u001b[0m         return ([tick.label1.get_window_extent(renderer)\n\u001b[0;32m-> 1150\u001b[0;31m                  for tick in ticks if tick.label1.get_visible()],\n\u001b[0m\u001b[1;32m   1151\u001b[0m                 [tick.label2.get_window_extent(renderer)\n\u001b[1;32m   1152\u001b[0m                  for tick in ticks if tick.label2.get_visible()])\n",
      "\u001b[0;32m/usr/local/lib/python3.7/site-packages/matplotlib/text.py\u001b[0m in \u001b[0;36mget_window_extent\u001b[0;34m(self, renderer, dpi)\u001b[0m\n\u001b[1;32m    890\u001b[0m         \u001b[0mbbox\u001b[0m\u001b[0;34m,\u001b[0m \u001b[0minfo\u001b[0m\u001b[0;34m,\u001b[0m \u001b[0mdescent\u001b[0m \u001b[0;34m=\u001b[0m \u001b[0mself\u001b[0m\u001b[0;34m.\u001b[0m\u001b[0m_get_layout\u001b[0m\u001b[0;34m(\u001b[0m\u001b[0mself\u001b[0m\u001b[0;34m.\u001b[0m\u001b[0m_renderer\u001b[0m\u001b[0;34m)\u001b[0m\u001b[0;34m\u001b[0m\u001b[0;34m\u001b[0m\u001b[0m\n\u001b[1;32m    891\u001b[0m         \u001b[0mx\u001b[0m\u001b[0;34m,\u001b[0m \u001b[0my\u001b[0m \u001b[0;34m=\u001b[0m \u001b[0mself\u001b[0m\u001b[0;34m.\u001b[0m\u001b[0mget_unitless_position\u001b[0m\u001b[0;34m(\u001b[0m\u001b[0;34m)\u001b[0m\u001b[0;34m\u001b[0m\u001b[0;34m\u001b[0m\u001b[0m\n\u001b[0;32m--> 892\u001b[0;31m         \u001b[0mx\u001b[0m\u001b[0;34m,\u001b[0m \u001b[0my\u001b[0m \u001b[0;34m=\u001b[0m \u001b[0mself\u001b[0m\u001b[0;34m.\u001b[0m\u001b[0mget_transform\u001b[0m\u001b[0;34m(\u001b[0m\u001b[0;34m)\u001b[0m\u001b[0;34m.\u001b[0m\u001b[0mtransform_point\u001b[0m\u001b[0;34m(\u001b[0m\u001b[0;34m(\u001b[0m\u001b[0mx\u001b[0m\u001b[0;34m,\u001b[0m \u001b[0my\u001b[0m\u001b[0;34m)\u001b[0m\u001b[0;34m)\u001b[0m\u001b[0;34m\u001b[0m\u001b[0;34m\u001b[0m\u001b[0m\n\u001b[0m\u001b[1;32m    893\u001b[0m         \u001b[0mbbox\u001b[0m \u001b[0;34m=\u001b[0m \u001b[0mbbox\u001b[0m\u001b[0;34m.\u001b[0m\u001b[0mtranslated\u001b[0m\u001b[0;34m(\u001b[0m\u001b[0mx\u001b[0m\u001b[0;34m,\u001b[0m \u001b[0my\u001b[0m\u001b[0;34m)\u001b[0m\u001b[0;34m\u001b[0m\u001b[0;34m\u001b[0m\u001b[0m\n\u001b[1;32m    894\u001b[0m         \u001b[0;32mif\u001b[0m \u001b[0mdpi\u001b[0m \u001b[0;32mis\u001b[0m \u001b[0;32mnot\u001b[0m \u001b[0;32mNone\u001b[0m\u001b[0;34m:\u001b[0m\u001b[0;34m\u001b[0m\u001b[0;34m\u001b[0m\u001b[0m\n",
      "\u001b[0;31mKeyboardInterrupt\u001b[0m: "
     ]
    }
   ],
   "source": [
    "sns.pairplot(bos)"
   ]
  },
  {
   "cell_type": "code",
   "execution_count": 12,
   "metadata": {
    "colab": {
     "base_uri": "https://localhost:8080/",
     "height": 319
    },
    "colab_type": "code",
    "id": "DtEjZJxB9DRk",
    "outputId": "21191bb0-013d-4c04-dce3-56ffb6fa4240"
   },
   "outputs": [
    {
     "data": {
      "text/plain": [
       "<matplotlib.axes._subplots.AxesSubplot at 0x135a534d0>"
      ]
     },
     "execution_count": 12,
     "metadata": {},
     "output_type": "execute_result"
    },
    {
     "data": {
      "image/png": "[encoded data removed]",
      "text/plain": [
       "<Figure size 432x288 with 2 Axes>"
      ]
     },
     "metadata": {
      "needs_background": "light"
     },
     "output_type": "display_data"
    }
   ],
   "source": [
    "corr_mat = bos.corr().round(2)\n",
    "sns.heatmap(data=corr_mat, annot=True)"
   ]
  },
  {
   "cell_type": "markdown",
   "metadata": {
    "colab_type": "text",
    "id": "br1iXe8nCsug"
   },
   "source": [
    "From the above two graphs, we can clearly see that the feature RM has a positive correlation with MEDV.\n",
    "\n",
    "Based on the above observations we will plot an lmplot between RM and MEDV to see the relationship between the two more clearly."
   ]
  },
  {
   "cell_type": "code",
   "execution_count": 0,
   "metadata": {
    "colab": {
     "base_uri": "https://localhost:8080/",
     "height": 386
    },
    "colab_type": "code",
    "id": "10RfVnuBCoE0",
    "outputId": "42f54f6f-a7d2-4a6d-d98f-78e0d830a03f"
   },
   "outputs": [
    {
     "data": {
      "text/plain": [
       "<seaborn.axisgrid.FacetGrid at 0x7f67708567f0>"
      ]
     },
     "execution_count": 14,
     "metadata": {
      "tags": []
     },
     "output_type": "execute_result"
    },
    {
     "data": {
      "image/png": "[encoded data removed]",
      "text/plain": [
       "<Figure size 360x360 with 1 Axes>"
      ]
     },
     "metadata": {
      "tags": []
     },
     "output_type": "display_data"
    }
   ],
   "source": [
    "sns.lmplot(x = 'RM', y = 'MEDV', data = bos)"
   ]
  },
  {
   "cell_type": "markdown",
   "metadata": {
    "colab_type": "text",
    "id": "aYBogZ3gC0RV"
   },
   "source": [
    "Splitting the data into Training and Test Data\n",
    "\n",
    "We will now split the dataset into training and test data. We do this to train our model with 80% of the samples and test with the remaining 20%.\n",
    "\n",
    "We are using the train_test_split function from the sklearn library to split the data."
   ]
  },
  {
   "cell_type": "code",
   "execution_count": 14,
   "metadata": {
    "colab": {},
    "colab_type": "code",
    "id": "CBOMxnoiC2YS"
   },
   "outputs": [],
   "source": [
    "X = bos[['CRIM', 'ZN', 'INDUS', 'CHAS', 'NOX', 'RM', 'AGE', 'DIS', 'RAD', 'TAX','PTRATIO', 'B', 'LSTAT']]\n",
    "y = bos['MEDV']"
   ]
  },
  {
   "cell_type": "code",
   "execution_count": 15,
   "metadata": {
    "colab": {},
    "colab_type": "code",
    "id": "3PtSt4ZJCzAq"
   },
   "outputs": [],
   "source": [
    "from sklearn.model_selection import train_test_split\n",
    "X_train, X_test, y_train, y_test = train_test_split(X, y, test_size = 0.2, random_state = 10)"
   ]
  },
  {
   "cell_type": "markdown",
   "metadata": {
    "colab_type": "text",
    "id": "6x09r8-RDLc_"
   },
   "source": [
    "**Training the Model**\n",
    "\n",
    "We will now train our model using the LinearRegression function from the sklearn library."
   ]
  },
  {
   "cell_type": "code",
   "execution_count": 16,
   "metadata": {
    "colab": {
     "base_uri": "https://localhost:8080/",
     "height": 34
    },
    "colab_type": "code",
    "id": "A7ZVK_GSDEvJ",
    "outputId": "602f02ad-ab88-49ec-8897-14833ae48bbe"
   },
   "outputs": [
    {
     "data": {
      "text/plain": [
       "LinearRegression(copy_X=True, fit_intercept=True, n_jobs=None, normalize=False)"
      ]
     },
     "execution_count": 16,
     "metadata": {},
     "output_type": "execute_result"
    }
   ],
   "source": [
    "from sklearn.linear_model import LinearRegression\n",
    "lm = LinearRegression()\n",
    "lm.fit(X_train, y_train)"
   ]
  },
  {
   "cell_type": "code",
   "execution_count": 33,
   "metadata": {},
   "outputs": [
    {
     "data": {
      "image/png": "[encoded data removed]",
      "text/plain": [
       "<Figure size 432x288 with 1 Axes>"
      ]
     },
     "metadata": {
      "needs_background": "light"
     },
     "output_type": "display_data"
    }
   ],
   "source": [
    "prediction = lm.predict(X_train)\n",
    "plt.scatter(y_train, prediction)\n",
    "plt.plot([0,50], [0, 50], 'k-')\n",
    "plt.xlabel('labels')\n",
    "plt.ylabel('predictions')\n",
    "plt.show()"
   ]
  },
  {
   "cell_type": "code",
   "execution_count": 34,
   "metadata": {},
   "outputs": [
    {
     "name": "stdout",
     "output_type": "stream",
     "text": [
      "Training accuracy\n",
      "MAE 3.0830955828177675\n",
      "MSE 19.230858879373056\n",
      "RMSE 4.385300318036731\n",
      "R squared error 0.750121534530608\n"
     ]
    }
   ],
   "source": [
    "from sklearn import metrics\n",
    "from sklearn.metrics import r2_score\n",
    "print(\"Training accuracy\")\n",
    "print('MAE', metrics.mean_absolute_error(y_train, prediction))\n",
    "print('MSE', metrics.mean_squared_error(y_train, prediction))\n",
    "print('RMSE', np.sqrt(metrics.mean_squared_error(y_train, prediction)))\n",
    "print('R squared error', r2_score(y_train, prediction))"
   ]
  },
  {
   "cell_type": "markdown",
   "metadata": {},
   "source": [
    "**Testing model**"
   ]
  },
  {
   "cell_type": "code",
   "execution_count": 22,
   "metadata": {
    "colab": {
     "base_uri": "https://localhost:8080/",
     "height": 282
    },
    "colab_type": "code",
    "id": "olwmPS6CDWEp",
    "outputId": "42714037-3263-404e-f9a7-88efa6c4fe34"
   },
   "outputs": [
    {
     "data": {
      "text/plain": [
       "<matplotlib.collections.PathCollection at 0x1382d3ed0>"
      ]
     },
     "execution_count": 22,
     "metadata": {},
     "output_type": "execute_result"
    },
    {
     "data": {
      "image/png": "[encoded data removed]",
      "text/plain": [
       "<Figure size 432x288 with 1 Axes>"
      ]
     },
     "metadata": {
      "needs_background": "light"
     },
     "output_type": "display_data"
    }
   ],
   "source": [
    "prediction = lm.predict(X_test)\n",
    "plt.scatter(y_test, prediction)"
   ]
  },
  {
   "cell_type": "markdown",
   "metadata": {
    "colab_type": "text",
    "id": "nqnQbGgCDceU"
   },
   "source": [
    "Plotting the data frame for the actual and predicted value and plotting a graph for the same."
   ]
  },
  {
   "cell_type": "code",
   "execution_count": 23,
   "metadata": {
    "colab": {
     "base_uri": "https://localhost:8080/",
     "height": 359
    },
    "colab_type": "code",
    "id": "1z1gzQvzDYyY",
    "outputId": "04f8a6a1-8843-4f6e-c47d-94871b49dfb5"
   },
   "outputs": [
    {
     "data": {
      "text/html": [
       "<div>\n",
       "<style scoped>\n",
       "    .dataframe tbody tr th:only-of-type {\n",
       "        vertical-align: middle;\n",
       "    }\n",
       "\n",
       "    .dataframe tbody tr th {\n",
       "        vertical-align: top;\n",
       "    }\n",
       "\n",
       "    .dataframe thead th {\n",
       "        text-align: right;\n",
       "    }\n",
       "</style>\n",
       "<table border=\"1\" class=\"dataframe\">\n",
       "  <thead>\n",
       "    <tr style=\"text-align: right;\">\n",
       "      <th></th>\n",
       "      <th>Actual</th>\n",
       "      <th>Predicted</th>\n",
       "    </tr>\n",
       "  </thead>\n",
       "  <tbody>\n",
       "    <tr>\n",
       "      <th>305</th>\n",
       "      <td>28.4</td>\n",
       "      <td>31.078964</td>\n",
       "    </tr>\n",
       "    <tr>\n",
       "      <th>193</th>\n",
       "      <td>31.1</td>\n",
       "      <td>31.721694</td>\n",
       "    </tr>\n",
       "    <tr>\n",
       "      <th>65</th>\n",
       "      <td>23.5</td>\n",
       "      <td>30.873149</td>\n",
       "    </tr>\n",
       "    <tr>\n",
       "      <th>349</th>\n",
       "      <td>26.6</td>\n",
       "      <td>22.282350</td>\n",
       "    </tr>\n",
       "    <tr>\n",
       "      <th>151</th>\n",
       "      <td>19.6</td>\n",
       "      <td>18.856061</td>\n",
       "    </tr>\n",
       "    <tr>\n",
       "      <th>433</th>\n",
       "      <td>14.3</td>\n",
       "      <td>16.471325</td>\n",
       "    </tr>\n",
       "    <tr>\n",
       "      <th>161</th>\n",
       "      <td>50.0</td>\n",
       "      <td>36.050042</td>\n",
       "    </tr>\n",
       "    <tr>\n",
       "      <th>129</th>\n",
       "      <td>14.3</td>\n",
       "      <td>14.640323</td>\n",
       "    </tr>\n",
       "    <tr>\n",
       "      <th>269</th>\n",
       "      <td>20.7</td>\n",
       "      <td>25.240786</td>\n",
       "    </tr>\n",
       "    <tr>\n",
       "      <th>226</th>\n",
       "      <td>37.6</td>\n",
       "      <td>36.920739</td>\n",
       "    </tr>\n",
       "  </tbody>\n",
       "</table>\n",
       "</div>"
      ],
      "text/plain": [
       "     Actual  Predicted\n",
       "305    28.4  31.078964\n",
       "193    31.1  31.721694\n",
       "65     23.5  30.873149\n",
       "349    26.6  22.282350\n",
       "151    19.6  18.856061\n",
       "433    14.3  16.471325\n",
       "161    50.0  36.050042\n",
       "129    14.3  14.640323\n",
       "269    20.7  25.240786\n",
       "226    37.6  36.920739"
      ]
     },
     "execution_count": 23,
     "metadata": {},
     "output_type": "execute_result"
    }
   ],
   "source": [
    "df1 = pd.DataFrame({'Actual': y_test, 'Predicted':prediction})\n",
    "df2 = df1.head(10)\n",
    "df2"
   ]
  },
  {
   "cell_type": "code",
   "execution_count": 24,
   "metadata": {
    "colab": {
     "base_uri": "https://localhost:8080/",
     "height": 291
    },
    "colab_type": "code",
    "id": "KYcb3ffsDgEI",
    "outputId": "9aa81d32-4bed-44c3-d2ea-a0a98a054f3b"
   },
   "outputs": [
    {
     "data": {
      "text/plain": [
       "<matplotlib.axes._subplots.AxesSubplot at 0x1383ca410>"
      ]
     },
     "execution_count": 24,
     "metadata": {},
     "output_type": "execute_result"
    },
    {
     "data": {
      "image/png": "[encoded data removed]",
      "text/plain": [
       "<Figure size 432x288 with 1 Axes>"
      ]
     },
     "metadata": {
      "needs_background": "light"
     },
     "output_type": "display_data"
    }
   ],
   "source": [
    "df2.plot(kind = 'bar')"
   ]
  },
  {
   "cell_type": "markdown",
   "metadata": {
    "colab_type": "text",
    "id": "EJR6aW9rDo8h"
   },
   "source": [
    "From the above graph, we can see that there is not much difference between the actual and predicted values,  Hence our predicted model seems to work pretty well.\n",
    "\n",
    "**Model Evaluation**\n",
    "\n",
    "We will now evaluate the model using the metrics and r2_score function from sklearn library.\n",
    "\n",
    "Here we will evaluate the Mean Absolute Error, Mean Squared Error, Root Mean Squared Error and R-squared value.\n",
    "\n",
    "The value of R-square ranges from 0 to 1 where value ‘1’ ( or near to 1) indicates predictor perfectly accounts for all the variation in Y."
   ]
  },
  {
   "cell_type": "code",
   "execution_count": 25,
   "metadata": {
    "colab": {
     "base_uri": "https://localhost:8080/",
     "height": 85
    },
    "colab_type": "code",
    "id": "fl3Lf6GVDmCM",
    "outputId": "6f21d536-92cf-4cd3-d22b-885c3091a327"
   },
   "outputs": [
    {
     "name": "stdout",
     "output_type": "stream",
     "text": [
      "MAE 4.061419182954695\n",
      "MSE 34.413968453138324\n",
      "RMSE 5.866341999333002\n",
      "R squared error 0.6709339839115651\n"
     ]
    }
   ],
   "source": [
    "from sklearn import metrics\n",
    "from sklearn.metrics import r2_score\n",
    "print('MAE', metrics.mean_absolute_error(y_test, prediction))\n",
    "print('MSE', metrics.mean_squared_error(y_test, prediction))\n",
    "print('RMSE', np.sqrt(metrics.mean_squared_error(y_test, prediction)))\n",
    "print('R squared error', r2_score(y_test, prediction))"
   ]
  },
  {
   "cell_type": "code",
   "execution_count": 0,
   "metadata": {
    "colab": {},
    "colab_type": "code",
    "id": "fvslDL9ADz-5"
   },
   "outputs": [],
   "source": []
  }
 ],
 "metadata": {
  "colab": {
   "collapsed_sections": [],
   "name": "Beginner_ML_Linear_Regression.ipynb",
   "provenance": []
  },
  "kernelspec": {
   "display_name": "Python 3",
   "language": "python",
   "name": "python3"
  },
  "language_info": {
   "codemirror_mode": {
    "name": "ipython",
    "version": 3
   },
   "file_extension": ".py",
   "mimetype": "text/x-python",
   "name": "python",
   "nbconvert_exporter": "python",
   "pygments_lexer": "ipython3",
   "version": "3.7.5"
  }
 },
 "nbformat": 4,
 "nbformat_minor": 1
}
